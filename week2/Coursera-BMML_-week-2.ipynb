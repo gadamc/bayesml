{
 "cells": [
  {
   "cell_type": "markdown",
   "metadata": {},
   "source": [
    "# Expectation-maximization algorithm"
   ]
  },
  {
   "cell_type": "markdown",
   "metadata": {},
   "source": [
    "In this assignment, we will derive and implement formulas for Gaussian Mixture Model — one of the most commonly used methods for performing soft clustering of the data. "
   ]
  },
  {
   "cell_type": "markdown",
   "metadata": {},
   "source": [
    "### Installation\n",
    "\n",
    "We will need ```numpy```, ```scikit-learn```, ```matplotlib``` libraries for this assignment"
   ]
  },
  {
   "cell_type": "code",
   "execution_count": 4,
   "metadata": {},
   "outputs": [
    {
     "name": "stdout",
     "output_type": "stream",
     "text": [
      "Fetching package metadata ...........\n",
      "Solving package specifications: .\n",
      "\n",
      "Package plan for installation in environment /Users/adamcox/miniconda2/envs/bayescourse:\n",
      "\n",
      "The following NEW packages will be INSTALLED:\n",
      "\n",
      "    asn1crypto:   0.24.0-py36_0        \n",
      "    cffi:         1.11.5-py36h342bebf_0\n",
      "    chardet:      3.0.4-py36h96c241c_1 \n",
      "    cryptography: 2.2.2-py36h1de35cc_0 \n",
      "    idna:         2.6-py36h8628d0a_1   \n",
      "    pycparser:    2.18-py36h724b2fc_1  \n",
      "    pyopenssl:    17.5.0-py36h51e4350_0\n",
      "    pysocks:      1.6.8-py36_0         \n",
      "    requests:     2.18.4-py36h4516966_1\n",
      "    urllib3:      1.22-py36h68b9469_0  \n",
      "\n",
      "cryptography-2 100% |################################| Time: 0:00:00   2.32 MB/s\n"
     ]
    }
   ],
   "source": [
    "!conda install -y requests"
   ]
  },
  {
   "cell_type": "code",
   "execution_count": 589,
   "metadata": {},
   "outputs": [],
   "source": [
    "import numpy as np\n",
    "from numpy.linalg import slogdet, det, solve\n",
    "import matplotlib.pyplot as plt\n",
    "\n",
    "import time\n",
    "from sklearn.datasets import load_digits\n",
    "from grader import Grader\n",
    "%matplotlib inline"
   ]
  },
  {
   "cell_type": "markdown",
   "metadata": {},
   "source": [
    "### Grading\n",
    "We will create a grader instance below and use it to collect your answers. Note that these outputs will be stored locally inside grader and will be uploaded to the platform only after running submitting function in the last part of this assignment. If you want to make a partial submission, you can run that cell anytime you want."
   ]
  },
  {
   "cell_type": "code",
   "execution_count": 590,
   "metadata": {},
   "outputs": [],
   "source": [
    "grader = Grader()"
   ]
  },
  {
   "cell_type": "markdown",
   "metadata": {},
   "source": [
    "## Implementing EM for GMM"
   ]
  },
  {
   "cell_type": "markdown",
   "metadata": {},
   "source": [
    "For debugging we will use samples from gaussian mixture model with unknown mean, variance and priors. We also added inital values of parameters for grading purposes."
   ]
  },
  {
   "cell_type": "code",
   "execution_count": 591,
   "metadata": {},
   "outputs": [
    {
     "data": {
      "image/png": "[encoded data removed]",
      "text/plain": [
       "<Figure size 432x288 with 1 Axes>"
      ]
     },
     "metadata": {},
     "output_type": "display_data"
    }
   ],
   "source": [
    "samples = np.load('samples.npz')\n",
    "X = samples['data']\n",
    "pi0 = samples['pi0']\n",
    "mu0 = samples['mu0']\n",
    "sigma0 = samples['sigma0']\n",
    "plt.scatter(X[:, 0], X[:, 1], c='grey', s=30)\n",
    "plt.axis('equal')\n",
    "plt.show()"
   ]
  },
  {
   "cell_type": "code",
   "execution_count": 592,
   "metadata": {},
   "outputs": [
    {
     "name": "stdout",
     "output_type": "stream",
     "text": [
      "(93, 2)\n"
     ]
    },
    {
     "data": {
      "text/plain": [
       "array([[5.90096725, 1.11952236],\n",
       "       [1.11952236, 6.19660175]])"
      ]
     },
     "execution_count": 592,
     "metadata": {},
     "output_type": "execute_result"
    }
   ],
   "source": [
    "xx = X[np.random.randint(0,X.shape[0],size=int(X.shape[0]/3)),:]\n",
    "print(xx.shape)\n",
    "np.cov(xx.T)"
   ]
  },
  {
   "cell_type": "code",
   "execution_count": 593,
   "metadata": {},
   "outputs": [
    {
     "data": {
      "text/plain": [
       "['mu0', 'pi0', 'data', 'sigma0']"
      ]
     },
     "execution_count": 593,
     "metadata": {},
     "output_type": "execute_result"
    }
   ],
   "source": [
    "samples.keys()"
   ]
  },
  {
   "cell_type": "code",
   "execution_count": 594,
   "metadata": {},
   "outputs": [
    {
     "data": {
      "text/plain": [
       "(280, 2)"
      ]
     },
     "execution_count": 594,
     "metadata": {},
     "output_type": "execute_result"
    }
   ],
   "source": [
    "X.shape"
   ]
  },
  {
   "cell_type": "code",
   "execution_count": 595,
   "metadata": {},
   "outputs": [
    {
     "data": {
      "text/plain": [
       "array([0.3451814 , 0.6066179 , 0.04820071])"
      ]
     },
     "execution_count": 595,
     "metadata": {},
     "output_type": "execute_result"
    }
   ],
   "source": [
    "pi0"
   ]
  },
  {
   "cell_type": "code",
   "execution_count": 596,
   "metadata": {},
   "outputs": [
    {
     "data": {
      "text/plain": [
       "(3, 2)"
      ]
     },
     "execution_count": 596,
     "metadata": {},
     "output_type": "execute_result"
    }
   ],
   "source": [
    "mu0.shape"
   ]
  },
  {
   "cell_type": "code",
   "execution_count": 597,
   "metadata": {},
   "outputs": [
    {
     "data": {
      "text/plain": [
       "array([[[ 1.00490413,  1.89980228],\n",
       "        [ 1.89980228,  4.18354574]],\n",
       "\n",
       "       [[ 1.96867815,  0.78415336],\n",
       "        [ 0.78415336,  1.83319942]],\n",
       "\n",
       "       [[ 0.19316335, -0.11648642],\n",
       "        [-0.11648642,  1.98395967]]])"
      ]
     },
     "execution_count": 597,
     "metadata": {},
     "output_type": "execute_result"
    }
   ],
   "source": [
    "sigma0"
   ]
  },
  {
   "cell_type": "markdown",
   "metadata": {},
   "source": [
    "### Reminder"
   ]
  },
  {
   "cell_type": "markdown",
   "metadata": {},
   "source": [
    "Remember, that EM algorithm is a coordinate descent optimization of variational lower bound $\\mathcal{L}(\\theta, q) = \\int q(T) \\log\\frac{P(X, T|\\theta)}{q(T)}dT\\to \\max$.\n",
    "\n",
    "<b>E-step</b>:<br>\n",
    "$\\mathcal{L}(\\theta, q) \\to \\max\\limits_{q} \\Leftrightarrow \\mathcal{KL} [q(T) \\,\\|\\, p(T|X, \\theta)] \\to \\min \\limits_{q\\in Q} \\Rightarrow q(T) = p(T|X, \\theta)$<br>\n",
    "<b>M-step</b>:<br> \n",
    "$\\mathcal{L}(\\theta, q) \\to \\max\\limits_{\\theta} \\Leftrightarrow \\mathbb{E}_{q(T)}\\log p(X,T | \\theta) \\to \\max\\limits_{\\theta}$\n",
    "\n",
    "For GMM, $\\theta$ is a set of parameters that consists of mean vectors $\\mu_c$, covariance matrices $\\Sigma_c$ and priors $\\pi_c$ for each component.\n",
    "\n",
    "Latent variables $T$ are indices of components to which each data point is assigned. $T_i$ (cluster index for object $i$) is a binary vector with only one active bit in position corresponding to the true component. For example, if we have $C=3$ components and object $i$ lies in first component, $T_i = [1, 0, 0]$.\n",
    "\n",
    "The joint distribution can be written as follows: $p(T, X \\mid \\theta) =  \\prod\\limits_{i=1}^N p(T_i, X_i \\mid \\theta) = \\prod\\limits_{i=1}^N \\prod\\limits_{c=1}^C [\\pi_c \\mathcal{N}(X_i \\mid \\mu_c, \\Sigma_c)]^{T_{ic}}$."
   ]
  },
  {
   "cell_type": "markdown",
   "metadata": {},
   "source": [
    "### E-step\n",
    "In this step we need to estimate the posterior distribution over the latent variables with fixed values of parameters: $q(T) = p(T|X, \\theta)$. We will assume that $T_i$ (cluster index for object $i$) is a binary vector with only one '1' in position corresponding to the true component. To do so we need to compute $\\gamma_{ic} = P(T_{ic} = 1 \\mid X, \\theta)$. Note that $\\sum\\limits_{c=1}^C\\gamma_{ic}=1$.\n"
   ]
  },
  {
   "cell_type": "markdown",
   "metadata": {},
   "source": [
    "<b>Important trick 1:</b> It is important to avoid numerical errors. At some point you will have to compute the formula of the following form: $\\frac{e^{x_i}}{\\sum_j e^{x_j}}$. When you compute exponents of large numbers, you get huge numerical errors (some numbers will simply become infinity). You can avoid this by dividing numerator and denominator by $e^{\\max(x)}$: $\\frac{e^{x_i-\\max(x)}}{\\sum_j e^{x_j - \\max(x)}}$. After this transformation maximum value in the denominator will be equal to one. All other terms will contribute smaller values. This trick is called log-sum-exp. So, to compute desired formula you first subtract maximum value from each component in vector $X$ and then compute everything else as before.\n",
    "\n",
    "<b>Important trick 2:</b> You will probably need to compute formula of the form $A^{-1}x$ at some point. You would normally inverse $A$ and then multiply it by $x$. A bit faster and more numerically accurate way to do this is to solve the equation $Ay = x$. Its solution is $y=A^{-1}x$, but the equation $Ay = x$ can be solved by Gaussian elimination procedure. You can use ```np.linalg.solve``` for this.\n",
    "\n",
    "<b>Other usefull functions: </b> <a href=\"https://docs.scipy.org/doc/numpy/reference/generated/numpy.linalg.slogdet.html\">```slogdet```</a> and <a href=\"https://docs.scipy.org/doc/numpy/reference/generated/numpy.linalg.det.html#numpy.linalg.det\">```det```</a>"
   ]
  },
  {
   "cell_type": "markdown",
   "metadata": {},
   "source": [
    "<b>Task 1:</b> Implement E-step for GMM using template below."
   ]
  },
  {
   "cell_type": "code",
   "execution_count": 598,
   "metadata": {},
   "outputs": [],
   "source": [
    "from scipy.stats import multivariate_normal\n",
    "\n",
    "\n",
    "def my_multivariate_normal(x, mean, cov):\n",
    "    # only works for x = a 1d array\n",
    "    xx = x - mean\n",
    "    d = x.shape[-1]\n",
    "    return ((2*np.pi)**-d/2.) * (det(cov)**-0.5) * np.exp(-0.5*( np.dot(xx.T, np.linalg.solve(cov, xx)))) \n",
    "\n",
    "def E_step(X, pi, mu, sigma):\n",
    "    \"\"\"\n",
    "    Performs E-step on GMM model\n",
    "    Each input is numpy array:\n",
    "    X: (N x d), data points\n",
    "    pi: (C), mixture component weights \n",
    "    mu: (C x d), mixture component means\n",
    "    sigma: (C x d x d), mixture component covariance matrices\n",
    "    \n",
    "    Returns:\n",
    "    gamma: (N x C), probabilities of clusters for objects\n",
    "    \"\"\"\n",
    "    N = X.shape[0] # number of objects\n",
    "    C = pi.shape[0] # number of clusters\n",
    "    d = mu.shape[1] # dimension of each object\n",
    "    gamma = np.zeros((N, C)) # distribution q(T)\n",
    "\n",
    "    ### YOUR CODE HERE\n",
    "    \n",
    "    #there's certainly a way to do this without for-loops\n",
    "    for n in range(N):\n",
    "        for c in range(C):\n",
    "            #xrow = X[n,:] - np.max(X[n,:])\n",
    "            xrow = X[n,:]\n",
    "            #print(xrow)\n",
    "            #print(np.max(xrow))\n",
    "            #print(xrow - np.max(xrow))\n",
    "            #xrow = xrow[np.newaxis,:]\n",
    "            #print(xrow.shape)\n",
    "            #print(sigma[c,:,:].shape)\n",
    "            #gamma[n,c] = pi[c]* my_multivariate_normal(xrow, mu[c], sigma[c,:,:])\n",
    "            gamma[n,c] = pi[c]*multivariate_normal.pdf(xrow, mean = mu[c], cov=sigma[c,:,:])\n",
    "    \n",
    "       \n",
    "    #now need to normalize gamma[n,c]\n",
    "    gamma = gamma / np.sum(gamma, axis=1)[:, np.newaxis]  #this [:, np.newaxis] term \n",
    "        \n",
    "    return gamma"
   ]
  },
  {
   "cell_type": "code",
   "execution_count": 599,
   "metadata": {},
   "outputs": [
    {
     "data": {
      "text/plain": [
       "(2, 280)"
      ]
     },
     "execution_count": 599,
     "metadata": {},
     "output_type": "execute_result"
    }
   ],
   "source": [
    "xx = X - mu[0]\n",
    "np.linalg.solve(sigma0[0,:,:], xx.T).shape"
   ]
  },
  {
   "cell_type": "code",
   "execution_count": 600,
   "metadata": {},
   "outputs": [
    {
     "data": {
      "text/plain": [
       "array([[3.66251522, 0.4966314 ],\n",
       "       [0.4966314 , 6.04389122]])"
      ]
     },
     "execution_count": 600,
     "metadata": {},
     "output_type": "execute_result"
    }
   ],
   "source": [
    "sigma[0,:,:]"
   ]
  },
  {
   "cell_type": "code",
   "execution_count": 601,
   "metadata": {},
   "outputs": [],
   "source": [
    "pdfx = my_multivariate_normal(X[10,:], mu[0], sigma[0,:,:])"
   ]
  },
  {
   "cell_type": "code",
   "execution_count": 602,
   "metadata": {},
   "outputs": [
    {
     "data": {
      "text/plain": [
       "0.0010631487828468204"
      ]
     },
     "execution_count": 602,
     "metadata": {},
     "output_type": "execute_result"
    }
   ],
   "source": [
    "pdfx"
   ]
  },
  {
   "cell_type": "code",
   "execution_count": 603,
   "metadata": {},
   "outputs": [
    {
     "name": "stdout",
     "output_type": "stream",
     "text": [
      "Current answer for task Task 1 (E-step) is: 0.5337178741081263\n"
     ]
    }
   ],
   "source": [
    "gamma = E_step(X, pi0, mu0, sigma0)\n",
    "grader.submit_e_step(gamma)"
   ]
  },
  {
   "cell_type": "code",
   "execution_count": 175,
   "metadata": {},
   "outputs": [
    {
     "data": {
      "text/plain": [
       "280.0"
      ]
     },
     "execution_count": 175,
     "metadata": {},
     "output_type": "execute_result"
    }
   ],
   "source": [
    "gamma.sum()"
   ]
  },
  {
   "cell_type": "code",
   "execution_count": 176,
   "metadata": {},
   "outputs": [
    {
     "data": {
      "text/plain": [
       "array([ 23.46798135, 241.38191992,  15.15009873])"
      ]
     },
     "execution_count": 176,
     "metadata": {},
     "output_type": "execute_result"
    }
   ],
   "source": [
    "gamma.sum(axis=0)"
   ]
  },
  {
   "cell_type": "markdown",
   "metadata": {},
   "source": [
    "### M-step\n",
    "\n",
    "In M-step we need to maximize $\\mathbb{E}_{q(T)}\\log p(X,T | \\theta)$ with respect to $\\theta$. In our model this means that we need to find optimal values of $\\pi$, $\\mu$, $\\Sigma$. To do so, you need to compute the derivatives and \n",
    "set them to zero. You should start by deriving formulas for $\\mu$ as it is the easiest part. Then move on to $\\Sigma$. Here it is crucial to optimize function w.r.t. to $\\Lambda = \\Sigma^{-1}$ and then inverse obtained result. Finaly, to compute $\\pi$, you will need <a href=\"https://www3.nd.edu/~jstiver/FIN360/Constrained%20Optimization.pdf\">Lagrange Multipliers technique</a> to satisfy constraint $\\sum\\limits_{i=1}^{n}\\pi_i = 1$.\n",
    "\n",
    "<br>\n",
    "<b>Important note:</b> You will need to compute derivatives of scalars with respect to matrices. To refresh this technique from previous courses, see <a href=\"https://en.wikipedia.org/wiki/Matrix_calculus\"> wiki article</a> about it . Main formulas of matrix derivatives can be found in <a href=\"http://www2.imm.dtu.dk/pubdb/views/edoc_download.php/3274/pdf/imm3274.pdf\">Chapter 2 of The Matrix Cookbook</a>. For example, there you may find that $\\frac{\\partial}{\\partial A}\\log |A| = A^{-T}$.\n"
   ]
  },
  {
   "cell_type": "markdown",
   "metadata": {},
   "source": [
    "<b>Task 2:</b> Implement M-step for GMM using template below."
   ]
  },
  {
   "cell_type": "code",
   "execution_count": 192,
   "metadata": {},
   "outputs": [],
   "source": [
    "mu = np.dot(gamma.T, X)"
   ]
  },
  {
   "cell_type": "code",
   "execution_count": 194,
   "metadata": {},
   "outputs": [
    {
     "data": {
      "text/plain": [
       "(3, 2)"
      ]
     },
     "execution_count": 194,
     "metadata": {},
     "output_type": "execute_result"
    }
   ],
   "source": [
    "mu.shape"
   ]
  },
  {
   "cell_type": "code",
   "execution_count": 195,
   "metadata": {},
   "outputs": [
    {
     "data": {
      "text/plain": [
       "array([[  50.68968134,   33.19292417],\n",
       "       [ 360.35846131, 1065.32652211],\n",
       "       [  54.94639267,   26.33300995]])"
      ]
     },
     "execution_count": 195,
     "metadata": {},
     "output_type": "execute_result"
    }
   ],
   "source": [
    "mu"
   ]
  },
  {
   "cell_type": "code",
   "execution_count": 191,
   "metadata": {},
   "outputs": [
    {
     "data": {
      "text/plain": [
       "array([[ 23.46798135],\n",
       "       [241.38191992],\n",
       "       [ 15.15009873]])"
      ]
     },
     "execution_count": 191,
     "metadata": {},
     "output_type": "execute_result"
    }
   ],
   "source": [
    "gamma.sum(axis=0).reshape(-1,1)"
   ]
  },
  {
   "cell_type": "code",
   "execution_count": 197,
   "metadata": {},
   "outputs": [
    {
     "name": "stdout",
     "output_type": "stream",
     "text": [
      "[[  50.68968134   33.19292417]\n",
      " [ 360.35846131 1065.32652211]\n",
      " [  54.94639267   26.33300995]]\n",
      "[[ 23.46798135]\n",
      " [241.38191992]\n",
      " [ 15.15009873]]\n",
      "[[2.15995064 1.41439196]\n",
      " [1.49289749 4.41344788]\n",
      " [3.62680096 1.73814114]]\n"
     ]
    }
   ],
   "source": [
    "mu = np.dot(gamma.T, X)\n",
    "print(mu)\n",
    "print(gamma.sum(axis=0)[:,np.newaxis])\n",
    "mu = np.divide(mu,gamma.sum(axis=0).reshape(-1,1))\n",
    "print(mu)"
   ]
  },
  {
   "cell_type": "code",
   "execution_count": 203,
   "metadata": {},
   "outputs": [
    {
     "data": {
      "text/plain": [
       "(2, 2)"
      ]
     },
     "execution_count": 203,
     "metadata": {},
     "output_type": "execute_result"
    }
   ],
   "source": [
    "diff = X - mu[0]\n",
    "np.dot(diff.T, diff).shape"
   ]
  },
  {
   "cell_type": "code",
   "execution_count": 207,
   "metadata": {},
   "outputs": [
    {
     "name": "stdout",
     "output_type": "stream",
     "text": [
      "[[0. 1.]\n",
      " [2. 3.]\n",
      " [4. 5.]]\n",
      "[[0.]\n",
      " [1.]\n",
      " [2.]]\n"
     ]
    },
    {
     "data": {
      "text/plain": [
       "array([[ 0.,  0.],\n",
       "       [ 2.,  3.],\n",
       "       [ 8., 10.]])"
      ]
     },
     "execution_count": 207,
     "metadata": {},
     "output_type": "execute_result"
    }
   ],
   "source": [
    "x1 = np.arange(6.0).reshape((3, 2))\n",
    "x2 = np.arange(3.0).reshape((3,1))\n",
    "\n",
    "print(x1)\n",
    "print(x2)\n",
    "np.multiply(x1, x2)"
   ]
  },
  {
   "cell_type": "code",
   "execution_count": 215,
   "metadata": {},
   "outputs": [
    {
     "data": {
      "text/plain": [
       "array([[ 1.17228095e+00,  5.75213236e+00],\n",
       "       [ 1.05443001e+00,  5.10029341e+00],\n",
       "       [ 1.21814807e+00,  5.15920217e+00],\n",
       "       [ 1.75362297e+00,  7.88315382e+00],\n",
       "       [ 2.05005447e+00,  7.38909041e+00],\n",
       "       [ 2.20779501e+00,  3.44969157e+00],\n",
       "       [ 5.29273819e+00,  3.15319415e+00],\n",
       "       [ 3.79661006e-02,  6.00430278e+00],\n",
       "       [ 7.17431136e-01,  6.13701974e+00],\n",
       "       [-1.18307081e+00,  1.58755199e+00],\n",
       "       [-8.17944961e-01,  2.63902188e+00],\n",
       "       [ 1.21663018e+00,  5.58031550e+00],\n",
       "       [-2.54147644e-01,  1.10080559e+00],\n",
       "       [ 3.02128295e+00,  6.09120151e+00],\n",
       "       [ 2.48589386e+00,  4.31904544e+00],\n",
       "       [ 6.06880749e-02,  3.54822919e+00],\n",
       "       [ 1.37942797e+00, -1.69794694e-01],\n",
       "       [ 1.53537865e+00,  7.41921097e+00],\n",
       "       [-2.07335270e-01,  1.30016067e+00],\n",
       "       [ 3.14906787e+00,  5.85690104e+00],\n",
       "       [ 2.44103605e-01,  4.66387340e+00],\n",
       "       [ 5.36539238e+00,  3.95180149e+00],\n",
       "       [ 7.30859440e-01,  7.00801146e+00],\n",
       "       [ 1.80023535e-01,  5.88478502e+00],\n",
       "       [ 1.53047798e+00,  4.05999791e+00],\n",
       "       [ 7.91333617e-01,  5.71722906e+00],\n",
       "       [ 6.55654575e-02,  9.05426617e-01],\n",
       "       [ 1.38467398e+00,  6.63742426e+00],\n",
       "       [ 1.79979815e+00,  6.71734412e+00],\n",
       "       [ 8.28621197e-01,  3.04987927e+00],\n",
       "       [ 1.75036044e+00,  4.24738427e+00],\n",
       "       [ 2.15780196e+00,  1.47856230e+00],\n",
       "       [ 8.28676961e-01,  6.28380383e-01],\n",
       "       [ 2.16434984e-01,  9.26169832e-01],\n",
       "       [ 5.50128803e-01,  5.37697581e+00],\n",
       "       [ 2.38266864e+00,  5.18139984e+00],\n",
       "       [ 9.21053412e-01,  5.70318952e+00],\n",
       "       [ 1.46824563e+00,  7.89259375e+00],\n",
       "       [ 1.80404389e+00,  5.52711683e+00],\n",
       "       [-1.35372844e-01,  2.21808015e+00],\n",
       "       [ 4.62866329e+00,  2.91729119e+00],\n",
       "       [ 3.85513598e+00, -4.37458909e-01],\n",
       "       [ 1.25478561e+00,  1.02320796e+00],\n",
       "       [ 1.43044841e+00,  5.63900429e+00],\n",
       "       [ 2.57838322e+00,  1.88864546e+00],\n",
       "       [-7.12000233e-01,  6.04217446e+00],\n",
       "       [ 9.50127959e-01, -9.34405235e-01],\n",
       "       [ 8.59612915e-01,  4.16013961e+00],\n",
       "       [ 1.33340031e+00,  4.46900078e+00],\n",
       "       [ 2.28097313e-03,  6.18740059e+00],\n",
       "       [-1.27745831e-01,  2.67346919e+00],\n",
       "       [ 1.05177972e+00,  7.88870301e-01],\n",
       "       [ 2.98444207e-01, -7.41814209e-01],\n",
       "       [ 7.44859547e+00,  5.10469501e+00],\n",
       "       [ 1.96411615e+00,  6.07498364e+00],\n",
       "       [ 6.55587129e-01,  1.01841964e-01],\n",
       "       [ 6.06282290e+00,  4.19903133e+00],\n",
       "       [ 1.90795092e+00,  5.03222045e+00],\n",
       "       [-1.33650845e-01,  1.69295177e+00],\n",
       "       [ 1.67282854e+00,  3.00733371e+00],\n",
       "       [ 8.41193517e-01,  2.89067493e-01],\n",
       "       [ 1.04471735e+00,  6.17667453e+00],\n",
       "       [-1.54504350e+00,  5.65613984e-01],\n",
       "       [-1.13853798e-01,  4.49026398e+00],\n",
       "       [ 1.91868384e+00,  7.28362874e+00],\n",
       "       [ 1.00779443e+00,  7.14828357e+00],\n",
       "       [ 4.31762587e-01,  2.65185979e+00],\n",
       "       [ 3.84805094e+00,  2.86355455e+00],\n",
       "       [-3.35238782e-01, -2.90631904e-02],\n",
       "       [ 3.80401143e-01,  7.06808394e+00],\n",
       "       [ 1.82417608e+00,  5.04868577e+00],\n",
       "       [ 2.24337126e-01,  5.92130256e+00],\n",
       "       [ 6.59334736e-01,  7.29999028e+00],\n",
       "       [ 7.34370047e+00,  5.05385313e+00],\n",
       "       [ 9.91611285e-01, -1.55261353e-01],\n",
       "       [ 5.09749823e+00,  2.88102600e+00],\n",
       "       [ 3.18859049e-01,  2.72265595e+00],\n",
       "       [ 1.21866814e+00,  6.21258467e+00],\n",
       "       [ 2.24323003e+00,  5.35313608e+00],\n",
       "       [-2.06916261e-01,  2.50511640e-02],\n",
       "       [ 1.70688539e+00,  5.34792446e+00],\n",
       "       [ 2.80925852e+00,  7.47969546e+00],\n",
       "       [ 1.39928975e+00,  6.30461599e-01],\n",
       "       [ 9.28624137e-01,  6.61272881e+00],\n",
       "       [ 1.63769046e+00,  2.02376264e+00],\n",
       "       [ 1.15164121e-01,  1.23235414e+00],\n",
       "       [ 1.99122691e+00,  5.74855367e+00],\n",
       "       [ 5.49601619e+00,  3.50792900e+00],\n",
       "       [ 1.64027822e+00,  5.11820300e+00],\n",
       "       [ 3.47025332e+00, -3.13939623e-02],\n",
       "       [ 1.38024349e+00,  5.32545816e+00],\n",
       "       [ 1.07609829e+00, -1.14385512e+00],\n",
       "       [ 3.71602779e+00, -1.24885308e+00],\n",
       "       [ 2.22826831e+00, -1.51667641e-01],\n",
       "       [ 4.55204110e+00,  3.95085815e+00],\n",
       "       [-9.48514713e-01,  5.11682395e+00],\n",
       "       [ 4.09485658e-01,  4.65397035e+00],\n",
       "       [ 1.38047573e+00,  5.70108587e-01],\n",
       "       [ 3.13782847e+00,  7.53836201e-01],\n",
       "       [ 5.81913064e+00,  3.99649479e+00],\n",
       "       [ 4.52859227e-01,  6.41737533e+00],\n",
       "       [ 1.42731546e+00,  6.02591123e+00],\n",
       "       [ 1.04158269e+00,  3.87923359e-01],\n",
       "       [ 1.73779650e+00,  7.19658247e-01],\n",
       "       [ 2.42582556e+00,  4.77945288e+00],\n",
       "       [ 1.09592795e+00,  5.06008719e+00],\n",
       "       [-1.45614922e+00,  5.95579921e+00],\n",
       "       [ 6.72249455e+00,  4.87447705e+00],\n",
       "       [ 2.17122860e+00,  1.51377507e+00],\n",
       "       [-1.10761991e-01,  4.69226154e+00],\n",
       "       [ 2.29496783e+00,  5.42072124e+00],\n",
       "       [ 1.14295165e+00,  1.30171920e-01],\n",
       "       [ 6.17089978e-01,  2.83817535e+00],\n",
       "       [ 1.22692117e+00,  7.84765306e-01],\n",
       "       [ 4.73360667e-01,  7.70186389e-01],\n",
       "       [ 6.53358247e-01,  4.93344148e+00],\n",
       "       [ 1.40046157e-02,  1.59633268e+00],\n",
       "       [ 1.40830824e+00,  4.91199064e+00],\n",
       "       [ 8.54232030e-02,  4.98565677e+00],\n",
       "       [ 6.95346826e+00,  5.04251028e+00],\n",
       "       [ 1.28854841e+00,  5.72271773e+00],\n",
       "       [ 2.44205882e+00,  6.55981677e+00],\n",
       "       [ 1.47439722e+00,  6.92281604e+00],\n",
       "       [ 1.50968857e+00,  4.23383548e-01],\n",
       "       [ 7.08911152e-01,  1.92696259e+00],\n",
       "       [ 6.74351097e+00,  5.59327053e+00],\n",
       "       [ 1.19888314e+00, -1.76991308e+00],\n",
       "       [ 4.63591705e-01,  5.87675592e+00],\n",
       "       [-1.11404336e+00,  9.46390557e-01],\n",
       "       [ 7.80532323e+00,  6.10231470e+00],\n",
       "       [ 1.82434739e+00,  5.40757741e+00],\n",
       "       [ 2.19961789e+00, -8.21169734e-01],\n",
       "       [-7.31324079e-01,  5.29271949e+00],\n",
       "       [ 2.19095517e+00, -1.85434167e-01],\n",
       "       [ 1.13871010e+00,  5.96400884e+00],\n",
       "       [-1.25074517e+00, -3.50542031e-01],\n",
       "       [ 2.85604676e+00,  1.92717505e+00],\n",
       "       [ 7.67649609e+00,  5.69599157e+00],\n",
       "       [ 2.90662901e+00,  1.24694079e+00],\n",
       "       [ 1.21320993e+00,  7.64086825e+00],\n",
       "       [ 1.87514302e+00,  5.76554685e+00],\n",
       "       [ 2.63023051e+00,  5.55409537e+00],\n",
       "       [ 1.41789035e+00,  6.90863452e+00],\n",
       "       [ 8.17272288e+00,  5.55090148e+00],\n",
       "       [ 1.02611693e+00, -1.49201446e-01],\n",
       "       [ 1.76826842e+00,  7.84372079e+00],\n",
       "       [ 1.27288235e+00,  7.58000235e+00],\n",
       "       [ 1.34939917e-01,  5.23554109e+00],\n",
       "       [ 1.74347283e+00,  5.40938363e+00],\n",
       "       [ 1.14531814e+00,  6.92145026e+00],\n",
       "       [ 3.58359732e+00,  2.62881378e+00],\n",
       "       [ 3.33428328e+00,  5.90988496e+00],\n",
       "       [ 1.26750995e+00,  6.20589213e+00],\n",
       "       [ 2.01185673e+00,  6.75314375e+00],\n",
       "       [ 9.16583082e-01,  5.81346837e+00],\n",
       "       [ 5.59727960e-01,  2.14385338e+00],\n",
       "       [ 3.20066085e+00,  6.27051570e+00],\n",
       "       [ 1.77198207e+00,  6.79430850e-01],\n",
       "       [ 2.15418928e+00,  4.90484753e+00],\n",
       "       [ 1.28963297e+00,  6.33025968e+00],\n",
       "       [ 6.73906082e+00,  5.03065169e+00],\n",
       "       [ 2.48259720e+00,  8.78121198e-01],\n",
       "       [ 9.99053803e-01,  1.48924870e-02],\n",
       "       [ 5.75650891e-01,  4.15503001e-01],\n",
       "       [ 1.24184549e+00,  1.43678326e-01],\n",
       "       [ 5.82957408e+00,  3.88783976e+00],\n",
       "       [ 6.56295773e-01,  7.45855398e+00],\n",
       "       [ 2.37296740e+00,  4.71993070e+00],\n",
       "       [-1.48963454e-01,  5.10833719e+00],\n",
       "       [ 2.30799608e+00,  1.23493727e+00],\n",
       "       [ 1.84553500e+00,  2.32539884e+00],\n",
       "       [ 5.98783970e+00,  3.79101920e+00],\n",
       "       [ 5.68719089e+00,  3.54180936e+00],\n",
       "       [ 1.90446650e+00,  1.24711991e+00],\n",
       "       [ 2.45931192e-02,  6.40724494e+00],\n",
       "       [ 1.84223120e+00, -1.59672037e+00],\n",
       "       [-1.52666689e-01,  6.15135192e+00],\n",
       "       [-5.35412073e-01,  6.21941055e+00],\n",
       "       [ 3.87094645e-01,  7.41660967e+00],\n",
       "       [-6.14883362e-01,  3.60615726e+00],\n",
       "       [ 1.30463003e+00,  7.68305438e+00],\n",
       "       [ 3.44683044e+00,  6.54630399e+00],\n",
       "       [ 7.24093815e-01,  4.10978217e+00],\n",
       "       [ 6.37523048e+00,  4.31647627e+00],\n",
       "       [ 6.81785190e-01,  7.48517604e+00],\n",
       "       [ 5.84166428e-01,  5.48862565e+00],\n",
       "       [ 2.21035655e-01,  5.07928162e+00],\n",
       "       [ 1.03487457e+00,  8.00486382e+00],\n",
       "       [ 6.70312342e-02,  2.30779324e+00],\n",
       "       [ 1.45058312e-01,  6.08623810e+00],\n",
       "       [ 3.51563949e+00,  5.90551541e+00],\n",
       "       [-1.21743069e+00,  2.01812486e+00],\n",
       "       [ 1.25534130e+00,  6.52236919e+00],\n",
       "       [ 1.52651115e+00,  2.74422557e+00],\n",
       "       [ 4.17820953e-01,  4.14281229e+00],\n",
       "       [ 7.83819163e-01,  7.22435624e+00],\n",
       "       [ 1.52608873e+00, -1.04848514e+00],\n",
       "       [ 2.62190103e+00,  4.08989819e+00],\n",
       "       [ 1.52141180e+00,  5.44636807e+00],\n",
       "       [ 1.27089960e+00,  5.83315410e+00],\n",
       "       [-1.15830820e+00,  6.57875861e+00],\n",
       "       [ 9.08096659e-01,  2.43601515e-01],\n",
       "       [-1.22799101e+00,  9.15552871e-02],\n",
       "       [ 7.60712169e-01,  4.72431851e+00],\n",
       "       [ 8.89125535e-01,  5.49148457e+00],\n",
       "       [ 7.19277453e+00,  5.37362018e+00],\n",
       "       [ 7.19969516e-01,  6.43598975e+00],\n",
       "       [ 2.07924181e+00,  6.00321138e-01],\n",
       "       [ 5.61934865e+00,  3.66621824e+00],\n",
       "       [ 5.81465174e-01,  6.05009709e+00],\n",
       "       [ 2.91693856e+00,  7.10829708e+00],\n",
       "       [ 1.75268533e+00,  1.86358473e-02],\n",
       "       [ 1.63434671e+00,  6.32185452e+00],\n",
       "       [ 8.09428576e+00,  5.08941822e+00],\n",
       "       [ 4.97104996e-01,  6.44127704e+00],\n",
       "       [ 7.30307355e-01,  2.03845021e+00],\n",
       "       [ 1.88012881e+00,  5.93895011e+00],\n",
       "       [ 3.17900554e+00, -2.09545453e-01],\n",
       "       [ 1.58528165e+00,  4.28470740e+00],\n",
       "       [ 1.86390248e+00,  6.85825822e+00],\n",
       "       [ 1.52057080e+00,  3.43286292e+00],\n",
       "       [ 2.91819526e+00,  5.72908139e+00],\n",
       "       [-2.99319130e-01,  5.42789197e+00],\n",
       "       [ 1.41194500e+00,  7.35910175e+00],\n",
       "       [ 2.95511537e+00,  6.01819397e+00],\n",
       "       [ 1.66991534e-01,  5.83623411e+00],\n",
       "       [ 5.19364819e-02,  5.65715895e+00],\n",
       "       [ 1.75519224e+00,  1.90483339e+00],\n",
       "       [ 1.35321852e+00,  5.69950925e+00],\n",
       "       [-1.91479924e-01,  6.43436677e+00],\n",
       "       [ 1.22101770e+00,  6.79450662e-02],\n",
       "       [ 1.78380398e+00,  6.30847344e+00],\n",
       "       [-3.55110244e-02,  1.82042904e+00],\n",
       "       [ 2.20118446e+00,  3.30215176e+00],\n",
       "       [ 1.04406025e+00,  5.74603461e+00],\n",
       "       [ 2.40516077e+00,  6.77959745e+00],\n",
       "       [ 2.54717242e-01,  2.16332784e-02],\n",
       "       [ 7.97021306e-01,  2.09803561e+00],\n",
       "       [ 7.37141542e-01,  1.84090527e+00],\n",
       "       [ 5.67847626e+00,  3.11218785e+00],\n",
       "       [ 1.29797955e+00,  7.14449431e-01],\n",
       "       [ 4.47203781e-01,  6.90901980e+00],\n",
       "       [ 2.53547232e+00,  2.22812918e-01],\n",
       "       [ 4.71032780e-02,  2.70833703e+00],\n",
       "       [ 1.05170708e+00,  6.24245870e+00],\n",
       "       [ 1.22719793e+00,  5.31044887e+00],\n",
       "       [ 9.05682707e-01,  3.97080835e+00],\n",
       "       [ 4.65742415e-01,  4.09360330e-01],\n",
       "       [ 1.06076701e+00,  4.90565946e+00],\n",
       "       [ 1.62230178e+00,  4.75497328e+00],\n",
       "       [-6.75943219e-01,  1.01942991e+00],\n",
       "       [ 1.60403460e+00,  5.23971318e+00],\n",
       "       [ 2.65552208e+00,  6.28439369e+00],\n",
       "       [-8.79363302e-01,  2.68361961e+00],\n",
       "       [ 1.35809511e+00,  6.18625348e+00],\n",
       "       [ 8.06669542e+00,  6.53431901e+00],\n",
       "       [ 6.28853785e-01,  6.05463295e-01],\n",
       "       [ 1.20521706e+00,  4.38770832e+00],\n",
       "       [ 1.51483282e+00,  4.94236568e+00],\n",
       "       [ 2.79508851e+00,  6.29377004e+00],\n",
       "       [ 2.11392387e+00,  3.78071934e+00],\n",
       "       [-1.04920085e+00, -2.86354706e-01],\n",
       "       [ 1.92995511e+00,  5.87823616e+00],\n",
       "       [ 6.48021223e-01,  1.92290319e+00],\n",
       "       [ 1.41531713e+00,  5.61488036e+00],\n",
       "       [-1.71354162e+00,  4.35964878e+00],\n",
       "       [ 1.57195184e+00,  5.28963241e+00],\n",
       "       [ 2.24183315e+00,  5.90291853e-01],\n",
       "       [ 6.83398279e+00,  5.33623657e+00],\n",
       "       [ 1.22742337e+00,  6.66310138e+00],\n",
       "       [ 6.74958659e-01,  8.08548733e+00],\n",
       "       [ 1.51781594e+00,  7.32020269e+00],\n",
       "       [-1.50692688e+00,  2.07662159e+00],\n",
       "       [ 1.01552968e+00,  1.51154386e+00],\n",
       "       [ 1.11941319e+00,  4.97081518e+00],\n",
       "       [ 8.62533136e+00,  6.66402501e+00],\n",
       "       [-9.47690561e-01,  1.07572041e+00],\n",
       "       [ 2.29142304e+00,  6.98402001e+00],\n",
       "       [ 6.43998438e-01,  5.83529671e+00],\n",
       "       [-1.35169889e-01,  4.57055492e+00]])"
      ]
     },
     "execution_count": 215,
     "metadata": {},
     "output_type": "execute_result"
    }
   ],
   "source": [
    "X"
   ]
  },
  {
   "cell_type": "code",
   "execution_count": 216,
   "metadata": {},
   "outputs": [
    {
     "data": {
      "text/plain": [
       "array([1.        , 1.        , 1.        , 1.        , 1.        ,\n",
       "       0.98540731, 0.70012896, 1.        , 1.        , 1.        ,\n",
       "       1.        , 1.        , 0.99364669, 1.        , 0.99989698,\n",
       "       1.        , 0.61126479, 1.        , 0.99811911, 0.99999999,\n",
       "       1.        , 0.58339716, 1.        , 1.        , 0.99999994,\n",
       "       1.        , 0.85114896, 1.        , 1.        , 0.99999801,\n",
       "       0.99999991, 0.44652749, 0.40367352, 0.75664228, 1.        ,\n",
       "       1.        , 1.        , 1.        , 1.        , 0.99999954,\n",
       "       0.6421527 , 0.56043234, 0.40505999, 1.        , 0.44796917,\n",
       "       1.        , 0.67038353, 1.        , 1.        , 1.        ,\n",
       "       1.        , 0.40664949, 0.50665808, 0.71294586, 1.        ,\n",
       "       0.4309033 , 0.66731561, 1.        , 0.99989037, 0.99258051,\n",
       "       0.43072152, 1.        , 0.99999353, 1.        , 1.        ,\n",
       "       1.        , 0.99999799, 0.49610888, 0.47040807, 1.        ,\n",
       "       1.        , 1.        , 1.        , 0.71048733, 0.5277669 ,\n",
       "       0.7060901 , 0.99999974, 1.        , 1.        , 0.43993049,\n",
       "       1.        , 1.        , 0.45947262, 1.        , 0.51287509,\n",
       "       0.96632316, 1.        , 0.68428367, 1.        , 0.65806754,\n",
       "       1.        , 0.70632688, 0.45586611, 0.71422896, 0.43645534,\n",
       "       1.        , 1.        , 0.46595414, 0.71435596, 0.66096254,\n",
       "       1.        , 1.        , 0.44310023, 0.50242807, 0.99999954,\n",
       "       1.        , 1.        , 0.66492178, 0.44360086, 1.        ,\n",
       "       1.        , 0.50141212, 0.99999801, 0.41958651, 0.46608872,\n",
       "       1.        , 0.99900099, 1.        , 1.        , 0.67415788,\n",
       "       1.        , 1.        , 1.        , 0.51563862, 0.98275784,\n",
       "       0.52845046, 0.70252014, 1.        , 0.99998911, 0.64065078,\n",
       "       1.        , 0.69922943, 1.        , 0.71411505, 1.        ,\n",
       "       0.88684232, 0.48598761, 0.68334835, 0.63269601, 1.        ,\n",
       "       1.        , 1.        , 1.        , 0.7161194 , 0.5335671 ,\n",
       "       1.        , 1.        , 1.        , 1.        , 1.        ,\n",
       "       0.49064961, 0.99999997, 1.        , 1.        , 1.        ,\n",
       "       0.99901632, 1.        , 0.51687378, 1.        , 1.        ,\n",
       "       0.64162192, 0.62216952, 0.49604666, 0.40218789, 0.51798755,\n",
       "       0.67835972, 1.        , 0.99999951, 1.        , 0.51303218,\n",
       "       0.57459826, 0.70470018, 0.70063049, 0.44358671, 1.        ,\n",
       "       0.66436174, 1.        , 1.        , 1.        , 1.        ,\n",
       "       1.        , 1.        , 1.        , 0.69235374, 1.        ,\n",
       "       1.        , 1.        , 1.        , 0.99999839, 1.        ,\n",
       "       0.9999997 , 1.        , 1.        , 0.98271753, 1.        ,\n",
       "       1.        , 0.71660219, 0.99739713, 1.        , 1.        ,\n",
       "       1.        , 0.44453712, 0.99169951, 1.        , 1.        ,\n",
       "       0.66040933, 1.        , 0.59697136, 0.67986165, 1.        ,\n",
       "       1.        , 0.6461667 , 1.        , 0.70026609, 1.        ,\n",
       "       0.99096499, 1.        , 0.66924219, 0.99999999, 1.        ,\n",
       "       0.99995192, 1.        , 1.        , 1.        , 1.        ,\n",
       "       1.        , 1.        , 0.41623178, 1.        , 1.        ,\n",
       "       0.52902599, 1.        , 0.9999171 , 0.96271143, 1.        ,\n",
       "       1.        , 0.40513181, 0.99047632, 0.96335614, 0.71664707,\n",
       "       0.43433836, 1.        , 0.71160422, 0.99999999, 1.        ,\n",
       "       1.        , 1.        , 0.39988047, 1.        , 1.        ,\n",
       "       0.99963108, 1.        , 1.        , 1.        , 1.        ,\n",
       "       0.60787754, 0.39961014, 1.        , 1.        , 1.        ,\n",
       "       0.99952333, 0.79758431, 1.        , 0.98847326, 1.        ,\n",
       "       1.        , 1.        , 0.63116879, 0.60083704, 1.        ,\n",
       "       1.        , 1.        , 1.        , 0.58635205, 1.        ,\n",
       "       0.68092101, 0.9999841 , 1.        , 1.        , 1.        ])"
      ]
     },
     "execution_count": 216,
     "metadata": {},
     "output_type": "execute_result"
    }
   ],
   "source": [
    "gamma[:,1]"
   ]
  },
  {
   "cell_type": "code",
   "execution_count": 223,
   "metadata": {},
   "outputs": [
    {
     "data": {
      "text/plain": [
       "array([[1337.33334069, 1715.10139367],\n",
       "       [1715.10139367, 6023.3386793 ]])"
      ]
     },
     "execution_count": 223,
     "metadata": {},
     "output_type": "execute_result"
    }
   ],
   "source": [
    "np.multiply(gamma[:,1].reshape(-1,1), X).T.dot(X)"
   ]
  },
  {
   "cell_type": "code",
   "execution_count": 391,
   "metadata": {},
   "outputs": [],
   "source": [
    "N_k = np.sum(gamma, axis=0)"
   ]
  },
  {
   "cell_type": "code",
   "execution_count": 393,
   "metadata": {},
   "outputs": [
    {
     "data": {
      "text/plain": [
       "array([0.44702322, 0.55076245, 0.00221433])"
      ]
     },
     "execution_count": 393,
     "metadata": {},
     "output_type": "execute_result"
    }
   ],
   "source": [
    "N_k/X.shape[0]"
   ]
  },
  {
   "cell_type": "code",
   "execution_count": 609,
   "metadata": {},
   "outputs": [],
   "source": [
    "def M_step(X, gamma):\n",
    "    \"\"\"\n",
    "    Performs M-step on GMM model\n",
    "    Each input is numpy array:\n",
    "    X: (N x d), data points\n",
    "    gamma: (N x C), distribution q(T)  \n",
    "    \n",
    "    Returns:\n",
    "    pi: (C)\n",
    "    mu: (C x d)\n",
    "    sigma: (C x d x d)\n",
    "    \"\"\"\n",
    "    N = X.shape[0] # number of objects\n",
    "    C = gamma.shape[1] # number of clusters\n",
    "    d = X.shape[1] # dimension of each object\n",
    "\n",
    "    ### YOUR CODE HERE\n",
    "    N_k = np.sum(gamma, axis=0)\n",
    "    mu = np.divide(np.dot(gamma.T, X),gamma.sum(axis=0)[:,np.newaxis])\n",
    "    sigma = np.zeros((C,d,d),dtype=np.float)\n",
    "    for c in range(C):\n",
    "        diff = X - mu[c]\n",
    "        sigma[c,:,:] = np.multiply(gamma[:,c].reshape(-1,1), diff).T.dot(diff)/N_k[c]\n",
    "\n",
    "    pi = N_k / N\n",
    "    return pi, mu, sigma"
   ]
  },
  {
   "cell_type": "code",
   "execution_count": 610,
   "metadata": {},
   "outputs": [
    {
     "name": "stdout",
     "output_type": "stream",
     "text": [
      "Current answer for task Task 2 (M-step: mu) is: 2.8993918820503817\n",
      "Current answer for task Task 2 (M-step: sigma) is: 5.9771052168975265\n",
      "Current answer for task Task 2 (M-step: pi) is: 0.5507624459218776\n",
      "[0.44702322 0.55076245 0.00221433]\n",
      "[[ 1.05852748  5.40759435]\n",
      " [ 2.16796132  2.89939188]\n",
      " [-1.33306197  1.41522785]]\n",
      "[[[ 0.70631457  1.00189734]\n",
      "  [ 1.00189734  3.09525744]]\n",
      "\n",
      " [[ 5.76353448  1.49049001]\n",
      "  [ 1.49049001  5.97710522]]\n",
      "\n",
      " [[ 0.0676037  -0.21186747]\n",
      "  [-0.21186747  3.29922798]]]\n"
     ]
    }
   ],
   "source": [
    "gamma = E_step(X, pi0, mu0, sigma0)\n",
    "pi, mu, sigma = M_step(X, gamma)\n",
    "grader.submit_m_step(pi, mu, sigma)\n",
    "print(pi)\n",
    "print(mu)\n",
    "print(sigma)"
   ]
  },
  {
   "cell_type": "code",
   "execution_count": 611,
   "metadata": {},
   "outputs": [],
   "source": [
    "def M_step2(X, gamma):\n",
    "    \"\"\"\n",
    "    Performs M-step on GMM model\n",
    "    Each input is numpy array:\n",
    "    X: (N x d), data points\n",
    "    gamma: (N x C), distribution q(T)  \n",
    "    \n",
    "    Returns:\n",
    "    pi: (C)\n",
    "    mu: (C x d)\n",
    "    sigma: (C x d x d)\n",
    "    \"\"\"\n",
    "    N = X.shape[0] # number of objects\n",
    "    C = gamma.shape[1] # number of clusters\n",
    "    d = X.shape[1] # dimension of each object\n",
    "    pi = np.zeros(C)\n",
    "    mu = np.zeros((C, d))\n",
    "    sigma = np.zeros((C, d, d))\n",
    "    for k in range(C):\n",
    "        q_sum = gamma[:,k].sum()\n",
    "        mu[k,:] = (X*gamma[:,k][:, np.newaxis]).sum(axis=0)/ q_sum\n",
    "        sigma[k,:] = np.sum([gamma[i,k] * np.outer(X[i] - mu[k], X[i] - mu[k]) for i in range(N)], axis=0) / q_sum\n",
    "        pi[k] = q_sum / N\n",
    "\n",
    "    return pi, mu, sigma"
   ]
  },
  {
   "cell_type": "code",
   "execution_count": 613,
   "metadata": {},
   "outputs": [
    {
     "name": "stdout",
     "output_type": "stream",
     "text": [
      "Current answer for task Task 2 (M-step: mu) is: 2.899391882050384\n",
      "Current answer for task Task 2 (M-step: sigma) is: 5.9771052168975265\n",
      "Current answer for task Task 2 (M-step: pi) is: 0.5507624459218775\n",
      "[0.44702322 0.55076245 0.00221433]\n",
      "[[ 1.05852748  5.40759435]\n",
      " [ 2.16796132  2.89939188]\n",
      " [-1.33306197  1.41522785]]\n",
      "[[[ 0.70631457  1.00189734]\n",
      "  [ 1.00189734  3.09525744]]\n",
      "\n",
      " [[ 5.76353448  1.49049001]\n",
      "  [ 1.49049001  5.97710522]]\n",
      "\n",
      " [[ 0.0676037  -0.21186747]\n",
      "  [-0.21186747  3.29922798]]]\n"
     ]
    }
   ],
   "source": [
    "gamma = E_step(X, pi0, mu0, sigma0)\n",
    "pi, mu, sigma = M_step2(X, gamma)\n",
    "grader.submit_m_step(pi, mu, sigma)\n",
    "print(pi)\n",
    "print(mu)\n",
    "print(sigma)"
   ]
  },
  {
   "cell_type": "code",
   "execution_count": 416,
   "metadata": {},
   "outputs": [
    {
     "data": {
      "text/plain": [
       "(280, 1)"
      ]
     },
     "execution_count": 416,
     "metadata": {},
     "output_type": "execute_result"
    }
   ],
   "source": [
    "gamma[:,0].reshape(-1,1).shape\n"
   ]
  },
  {
   "cell_type": "markdown",
   "metadata": {},
   "source": [
    "### Loss function"
   ]
  },
  {
   "cell_type": "markdown",
   "metadata": {},
   "source": [
    "Finally, we need some function to track convergence. We will use variational lower bound $\\mathcal{L}$ for this purpose. We will stop our EM iterations when $\\mathcal{L}$ will saturate. Usually, you will need only about 10-20 iterations to converge. It is also useful to check that this function never decreases during training. If it does, you have a bug in your code.\n",
    "\n",
    "<b>Task 3:</b> Implement a function that will compute $\\mathcal{L}$ using template below.\n",
    "\n",
    "$$\\mathcal{L} = \\sum_{n=1}^{N} \\sum_{k=1}^{K} \\mathbb{E}[z_{n, k}] (\\log \\pi_k + \\log \\mathcal{N}(x_n | \\mu_k, \\sigma_k)) - \\sum_{n=1}^{N} \\sum_{k=1}^{K} \\mathbb{E}[z_{n, k}] \\log \\mathbb{E}[z_{n, k}]$$"
   ]
  },
  {
   "cell_type": "code",
   "execution_count": 777,
   "metadata": {},
   "outputs": [],
   "source": [
    "def compute_vlb(X, pi, mu, sigma, gamma, mvn = multivariate_normal.pdf):\n",
    "    \"\"\"\n",
    "    Each input is numpy array:\n",
    "    X: (N x d), data points\n",
    "    gamma: (N x C), distribution q(T)  \n",
    "    pi: (C)\n",
    "    mu: (C x d)\n",
    "    sigma: (C x d x d)\n",
    "    mvn = multivariate_normal_pdf function\n",
    "        either use scipy, or my implementation\n",
    "        \n",
    "    Returns value of variational lower bound\n",
    "    \"\"\"\n",
    "    N = X.shape[0] # number of objects\n",
    "    C = gamma.shape[1] # number of clusters\n",
    "    d = X.shape[1] # dimension of each object\n",
    "\n",
    "    ### YOUR CODE HERE\n",
    "    loss = 0\n",
    "    for c in range(C):\n",
    "        try:\n",
    "            #probX = multivariate_normal.pdf(X, mean = mu[c], cov=sigma[c,:,:])\n",
    "            probX = mvn(X, mean = mu[c], cov=sigma[c,:,:])\n",
    "            #print(probX)\n",
    "            val = np.dot(gamma[:,c],np.log(probX+1.0e-13) + np.log(pi[c]+1.0e-13))\n",
    "            #print(val)\n",
    "            loss +=  val\n",
    "        except ValueError as e:\n",
    "            print(e)\n",
    "            print(sigma)\n",
    "            print(sigma[c,:,:])\n",
    "            raise e\n",
    "            \n",
    "    loss -= np.multiply(gamma, np.log(gamma+1e-13)).sum()\n",
    "\n",
    "    return loss"
   ]
  },
  {
   "cell_type": "code",
   "execution_count": 684,
   "metadata": {},
   "outputs": [],
   "source": [
    "a = np.array([[1,2],[3,4]])"
   ]
  },
  {
   "cell_type": "code",
   "execution_count": 685,
   "metadata": {},
   "outputs": [
    {
     "data": {
      "text/plain": [
       "array([[1, 2],\n",
       "       [3, 4]])"
      ]
     },
     "execution_count": 685,
     "metadata": {},
     "output_type": "execute_result"
    }
   ],
   "source": [
    "a"
   ]
  },
  {
   "cell_type": "code",
   "execution_count": 686,
   "metadata": {},
   "outputs": [
    {
     "data": {
      "text/plain": [
       "array([[1, 3],\n",
       "       [2, 4]])"
      ]
     },
     "execution_count": 686,
     "metadata": {},
     "output_type": "execute_result"
    }
   ],
   "source": [
    "a.T"
   ]
  },
  {
   "cell_type": "code",
   "execution_count": 690,
   "metadata": {},
   "outputs": [
    {
     "data": {
      "text/plain": [
       "array([[ 5, 11],\n",
       "       [11, 25]])"
      ]
     },
     "execution_count": 690,
     "metadata": {},
     "output_type": "execute_result"
    }
   ],
   "source": [
    "a.dot(a.T)"
   ]
  },
  {
   "cell_type": "code",
   "execution_count": 678,
   "metadata": {},
   "outputs": [
    {
     "data": {
      "text/plain": [
       "45.235564744595834"
      ]
     },
     "execution_count": 678,
     "metadata": {},
     "output_type": "execute_result"
    }
   ],
   "source": [
    "np.multiply(a,np.log(a)).sum()"
   ]
  },
  {
   "cell_type": "code",
   "execution_count": 681,
   "metadata": {},
   "outputs": [
    {
     "data": {
      "text/plain": [
       "array([[19.16654849, 21.68698962],\n",
       "       [22.498753  , 26.06901626]])"
      ]
     },
     "execution_count": 681,
     "metadata": {},
     "output_type": "execute_result"
    }
   ],
   "source": [
    "np.dot(a.T, np.log(a))"
   ]
  },
  {
   "cell_type": "code",
   "execution_count": 651,
   "metadata": {},
   "outputs": [
    {
     "data": {
      "text/plain": [
       "65.96911873779648"
      ]
     },
     "execution_count": 651,
     "metadata": {},
     "output_type": "execute_result"
    }
   ],
   "source": [
    "-np.multiply(gamma, np.log(gamma+1e-9)).sum()"
   ]
  },
  {
   "cell_type": "code",
   "execution_count": 666,
   "metadata": {},
   "outputs": [
    {
     "data": {
      "text/plain": [
       "(280, 3)"
      ]
     },
     "execution_count": 666,
     "metadata": {},
     "output_type": "execute_result"
    }
   ],
   "source": [
    "gamma.shape"
   ]
  },
  {
   "cell_type": "code",
   "execution_count": 462,
   "metadata": {},
   "outputs": [
    {
     "data": {
      "text/plain": [
       "array([[ 1.05852748,  5.40759435],\n",
       "       [ 2.16796132,  2.89939188],\n",
       "       [-1.33306197,  1.41522785]])"
      ]
     },
     "execution_count": 462,
     "metadata": {},
     "output_type": "execute_result"
    }
   ],
   "source": [
    "mu"
   ]
  },
  {
   "cell_type": "code",
   "execution_count": 463,
   "metadata": {},
   "outputs": [
    {
     "data": {
      "text/plain": [
       "array([[[ 0.70631457,  1.00189734],\n",
       "        [ 1.00189734,  3.09525744]],\n",
       "\n",
       "       [[ 5.76353448,  1.49049001],\n",
       "        [ 1.49049001,  5.97710522]],\n",
       "\n",
       "       [[ 0.0676037 , -0.21186747],\n",
       "        [-0.21186747,  3.29922798]]])"
      ]
     },
     "execution_count": 463,
     "metadata": {},
     "output_type": "execute_result"
    }
   ],
   "source": [
    "sigma"
   ]
  },
  {
   "cell_type": "code",
   "execution_count": 464,
   "metadata": {},
   "outputs": [
    {
     "data": {
      "text/plain": [
       "array([0.44702322, 0.55076245, 0.00221433])"
      ]
     },
     "execution_count": 464,
     "metadata": {},
     "output_type": "execute_result"
    }
   ],
   "source": [
    "pi"
   ]
  },
  {
   "cell_type": "code",
   "execution_count": 465,
   "metadata": {},
   "outputs": [
    {
     "data": {
      "text/plain": [
       "-10.925387585498541"
      ]
     },
     "execution_count": 465,
     "metadata": {},
     "output_type": "execute_result"
    }
   ],
   "source": [
    "c = 2\n",
    "(np.dot(gamma[:,c],np.log(multivariate_normal.pdf(X-X.max(axis=0), mean = mu[c], cov=sigma[c,:,:])+0.00001) + np.log(pi[c]+0.00001)))\n",
    "#(np.dot(gamma,np.log(multivariate_normal.pdf(X, mean = mu, cov=sigma)) + np.log(pi)))"
   ]
  },
  {
   "cell_type": "code",
   "execution_count": 767,
   "metadata": {},
   "outputs": [
    {
     "data": {
      "text/plain": [
       "1150.5132630339047"
      ]
     },
     "execution_count": 767,
     "metadata": {},
     "output_type": "execute_result"
    }
   ],
   "source": [
    "loss"
   ]
  },
  {
   "cell_type": "code",
   "execution_count": 778,
   "metadata": {},
   "outputs": [
    {
     "name": "stdout",
     "output_type": "stream",
     "text": [
      "Current answer for task Task 3 (VLB) is: -1213.973437451592\n"
     ]
    }
   ],
   "source": [
    "pi, mu, sigma = pi0, mu0, sigma0\n",
    "gamma = E_step(X, pi, mu, sigma)\n",
    "pi, mu, sigma = M_step(X, gamma)\n",
    "loss = compute_vlb(X, pi, mu, sigma, gamma)\n",
    "grader.submit_VLB(loss)\n"
   ]
  },
  {
   "cell_type": "code",
   "execution_count": 764,
   "metadata": {},
   "outputs": [
    {
     "name": "stdout",
     "output_type": "stream",
     "text": [
      "[0.46383545 0.52768499 0.00847956] [[ 1.07499213  5.85685648]\n",
      " [ 2.22864219  2.45133965]\n",
      " [-1.22344612  0.84643644]] [[[ 0.68405518  0.17863387]\n",
      "  [ 0.17863387  1.3030211 ]]\n",
      "\n",
      " [[ 5.86816538  2.66859884]\n",
      "  [ 2.66859884  5.09531312]]\n",
      "\n",
      " [[ 0.02252806 -0.06231391]\n",
      "  [-0.06231391  0.97861765]]] 1150.5132630339047\n"
     ]
    }
   ],
   "source": [
    "pi, mu, sigma = pi0, mu0, sigma0\n",
    "gamma = E_step(X, pi, mu, sigma)\n",
    "pi, mu, sigma = M_step(X, gamma)\n",
    "loss = compute_vlb(X, pi, mu, sigma, gamma)\n",
    "gamma = E_step(X, pi, mu, sigma)\n",
    "pi, mu, sigma = M_step(X, gamma)\n",
    "loss = compute_vlb(X, pi, mu, sigma, gamma)\n",
    "gamma = E_step(X, pi, mu, sigma)\n",
    "pi, mu, sigma = M_step(X, gamma)\n",
    "loss = compute_vlb(X, pi, mu, sigma, gamma)\n",
    "gamma = E_step(X, pi, mu, sigma)\n",
    "pi, mu, sigma = M_step(X, gamma)\n",
    "loss = compute_vlb(X, pi, mu, sigma, gamma)\n",
    "print(pi, mu, sigma , loss)"
   ]
  },
  {
   "cell_type": "code",
   "execution_count": 505,
   "metadata": {},
   "outputs": [
    {
     "data": {
      "text/plain": [
       "array([[[3.7052961 , 0.47317406],\n",
       "        [0.47317406, 5.95373982]],\n",
       "\n",
       "       [[3.23074395, 0.14994485],\n",
       "        [0.14994485, 5.12252562]],\n",
       "\n",
       "       [[4.14966413, 0.80463019],\n",
       "        [0.80463019, 6.54800119]]])"
      ]
     },
     "execution_count": 505,
     "metadata": {},
     "output_type": "execute_result"
    }
   ],
   "source": [
    "sigma0"
   ]
  },
  {
   "cell_type": "markdown",
   "metadata": {},
   "source": [
    "### Bringing it all together"
   ]
  },
  {
   "cell_type": "markdown",
   "metadata": {},
   "source": [
    "Now that we have E step, M step and VLB, we can implement training loop. We will start at random values of $\\pi$, $\\mu$ and $\\Sigma$, train until $\\mathcal{L}$ stops changing and return the resulting points. We also know that EM algorithm sometimes stops at local optima. To avoid this we should restart algorithm multiple times from different starting positions. Each training trial should stop either when maximum number of iterations is reached or when relative improvement is smaller than given tolerance ($|\\frac{\\mathcal{L}_i-\\mathcal{L}_{i-1}}{\\mathcal{L}_{i-1}}| \\le \\text{rtol}$).\n",
    "\n",
    "Remember, that values of $\\pi$ that you generate must be non-negative and sum up to 1. Also, $\\Sigma$ matrices must be symmetric and positive semi-definite. If you don't know how to generate those matrices, you can use $\\Sigma=I$ as initialization.\n",
    "\n",
    "You will also sometimes get numerical errors because of component collapsing. The easiest way to deal with this problems is to simply restart the procedure.\n",
    "\n",
    "<b>Task 4:</b> Implement training procedure"
   ]
  },
  {
   "cell_type": "code",
   "execution_count": 452,
   "metadata": {},
   "outputs": [
    {
     "data": {
      "text/plain": [
       "array([8.62533136, 8.08548733])"
      ]
     },
     "execution_count": 452,
     "metadata": {},
     "output_type": "execute_result"
    }
   ],
   "source": [
    "X.max(axis=0)"
   ]
  },
  {
   "cell_type": "code",
   "execution_count": 453,
   "metadata": {},
   "outputs": [
    {
     "name": "stdout",
     "output_type": "stream",
     "text": [
      "[[-2.63390585 -6.68593365]\n",
      " [-1.67585513  3.31208141]\n",
      " [-6.26770647 -3.93645941]]\n",
      "-17.88777910933173\n"
     ]
    }
   ],
   "source": [
    "pi0 = np.random.randn(3,2)*X.max(axis=0)/1.5\n",
    "print(pi0)\n",
    "print(pi0.sum())"
   ]
  },
  {
   "cell_type": "code",
   "execution_count": 454,
   "metadata": {},
   "outputs": [],
   "source": [
    "sigma0 = np.zeros((10,2,2), dtype=np.float)"
   ]
  },
  {
   "cell_type": "code",
   "execution_count": 455,
   "metadata": {},
   "outputs": [
    {
     "data": {
      "text/plain": [
       "array([[0., 0.],\n",
       "       [0., 0.]])"
      ]
     },
     "execution_count": 455,
     "metadata": {},
     "output_type": "execute_result"
    }
   ],
   "source": [
    "sigma0[0,:,:]"
   ]
  },
  {
   "cell_type": "code",
   "execution_count": 497,
   "metadata": {},
   "outputs": [
    {
     "name": "stdout",
     "output_type": "stream",
     "text": [
      "[[[0.85269356 0.80625096]\n",
      "  [0.76757971 0.2579088 ]]\n",
      "\n",
      " [[0.17917993 0.31599937]\n",
      "  [0.08684136 0.68370508]]\n",
      "\n",
      " [[0.6261453  0.65986771]\n",
      "  [0.84791466 0.52690943]]]\n"
     ]
    },
    {
     "data": {
      "text/plain": [
       "array([[[1.37712691, 0.86244949],\n",
       "        [0.86244949, 0.65569556]],\n",
       "\n",
       "       [[0.13196105, 0.2316106 ],\n",
       "        [0.2316106 , 0.47499406]],\n",
       "\n",
       "       [[0.82748333, 0.87860829],\n",
       "        [0.87860829, 0.99659281]]])"
      ]
     },
     "execution_count": 497,
     "metadata": {},
     "output_type": "execute_result"
    }
   ],
   "source": [
    "C,d  = 3,2\n",
    "\n",
    "sigma_ = np.random.rand(C, d, d)\n",
    "print(sigma_)\n",
    "sigma = np.array([np.dot(A, A.T) for A in sigma_])\n",
    "sigma"
   ]
  },
  {
   "cell_type": "code",
   "execution_count": 509,
   "metadata": {},
   "outputs": [
    {
     "name": "stdout",
     "output_type": "stream",
     "text": [
      "[[[3.4961043  1.27408894]\n",
      "  [1.27408894 5.6830558 ]]\n",
      "\n",
      " [[6.56120847 1.18371909]\n",
      "  [1.18371909 5.48737927]]\n",
      "\n",
      " [[2.3791707  0.67255181]\n",
      "  [0.67255181 6.10281444]]]\n",
      "[11.72733798 14.41602593  9.82708876]\n",
      "[[[0.29811576 0.10864264]\n",
      "  [0.10864264 0.48459896]]\n",
      "\n",
      " [[0.45513295 0.08211133]\n",
      "  [0.08211133 0.38064438]]\n",
      "\n",
      " [[0.24210331 0.06843856]\n",
      "  [0.06843856 0.62101957]]]\n"
     ]
    }
   ],
   "source": [
    "sigma0 = np.zeros((C,d,d), dtype=np.float)\n",
    "for c in range(C):\n",
    "    sigma0[c,:,:] = np.cov(X[np.random.randint(0,X.shape[0],size=int(X.shape[0]/3)),:].T)\n",
    "    \n",
    "print(sigma0)\n",
    "print(sigma0.sum(axis=1).sum(axis=1))\n",
    "print(sigma0/sigma0.sum(axis=1).sum(axis=1)[:,np.newaxis,np.newaxis])\n"
   ]
  },
  {
   "cell_type": "code",
   "execution_count": null,
   "metadata": {},
   "outputs": [],
   "source": []
  },
  {
   "cell_type": "code",
   "execution_count": 782,
   "metadata": {},
   "outputs": [],
   "source": [
    "def train_EM(X, C, rtol=1e-3, max_iter=100, restarts=10):\n",
    "    '''\n",
    "    Starts with random initialization *restarts* times\n",
    "    Runs optimization until saturation with *rtol* reached\n",
    "    or *max_iter* iterations were made.\n",
    "    \n",
    "    X: (N, d), data points\n",
    "    C: int, number of clusters\n",
    "    '''\n",
    "    N = X.shape[0] # number of objects\n",
    "    d = X.shape[1] # dimension of each object\n",
    "    best_loss = None\n",
    "    best_pi = None\n",
    "    best_mu = None\n",
    "    best_sigma = None\n",
    "\n",
    "    for _ in range(restarts):\n",
    "        \n",
    "        print(\"\\n New Run \\n\\n\")\n",
    "        try:\n",
    "            ### YOUR CODE HERE\n",
    "            last_loss = None\n",
    "            numiter = 0\n",
    "            \n",
    "            \n",
    "            pi = np.random.rand(3)\n",
    "            pi = pi0/pi0.sum()\n",
    "            #print(pi)\n",
    "            #mu = np.random.randn(3,2)*X.mean()\n",
    "            #print(mu)\n",
    "            sigma = np.zeros((C,d,d), dtype=np.float)\n",
    "            for c in range(C):\n",
    "                sigma[c,:,:] = np.cov(X[np.random.randint(0,X.shape[0],size=int(X.shape[0]/3)),:].T)\n",
    "\n",
    "            sigma /= sigma.sum(axis=1).sum(axis=1)[:,np.newaxis,np.newaxis]\n",
    "            #sigma = samples['sigma0']\n",
    "    \n",
    "            sigma_ = np.random.rand(C, d, d)\n",
    "            sigma = np.array([np.dot(A, A.T) for A in sigma_])\n",
    "            #print(sigma)\n",
    "            \n",
    "            \n",
    "            pi = np.array([1.0/C]*C,dtype=np.float32)\n",
    "            mu = np.random.rand(C, d)\n",
    "            #sigma_ = np.random.rand(C, d, d)\n",
    "            #sigma = np.array([np.dot(A, A.T) for A in sigma_])\n",
    "            \n",
    "            print('init values')\n",
    "            print(pi)\n",
    "            print(mu)\n",
    "            print(sigma)\n",
    "            \n",
    "            while True:\n",
    "                \n",
    "                gamma = E_step(X, pi, mu, sigma)\n",
    "                pi, mu, sigma = M_step(X, gamma)\n",
    "                loss = -compute_vlb(X, pi, mu, sigma, gamma)\n",
    "                \n",
    "                print(\"iter{}, loss {}\".format(numiter, loss))\n",
    "\n",
    "                \n",
    "                if best_loss is None or loss < best_loss:\n",
    "                    best_loss = loss\n",
    "                    best_pi = pi\n",
    "                    best_mu = mu\n",
    "                    best_sigma = sigma\n",
    "                \n",
    "                if last_loss is not None and loss > last_loss: \n",
    "                    raise Exception(\"error\", \"last_loss: {}, this_loss: {}\".format(last_loss, loss))\n",
    "                \n",
    "                if (last_loss is not None) and last_loss - loss < rtol:\n",
    "                    print(loss)\n",
    "                    print(last_loss)\n",
    "                    print(\"loss converged: {}\".format(last_loss - loss))\n",
    "                    break\n",
    "                \n",
    "                        \n",
    "                        \n",
    "                if numiter == max_iter:\n",
    "                    break\n",
    "                    \n",
    "                numiter += 1\n",
    "                last_loss = loss\n",
    "\n",
    "        except Exception as e:\n",
    "            print(e)\n",
    "            pass\n",
    "\n",
    "        print(-best_loss)\n",
    "        print(best_pi)\n",
    "        print(best_mu)\n",
    "        print(best_sigma)\n",
    "    return -best_loss, best_pi, best_mu, best_sigma"
   ]
  },
  {
   "cell_type": "code",
   "execution_count": 783,
   "metadata": {},
   "outputs": [
    {
     "name": "stdout",
     "output_type": "stream",
     "text": [
      "\n",
      " New Run \n",
      "\n",
      "\n",
      "init values\n",
      "[0.33333334 0.33333334 0.33333334]\n",
      "[[0.81251478 0.50173078]\n",
      " [0.22155087 0.91820349]\n",
      " [0.24355623 0.97425982]]\n",
      "[[[1.0876924  0.68786154]\n",
      "  [0.68786154 1.00268594]]\n",
      "\n",
      " [[0.36672547 0.67002781]\n",
      "  [0.67002781 1.41347395]]\n",
      "\n",
      " [[0.09134439 0.14879352]\n",
      "  [0.14879352 0.25820822]]]\n",
      "iter0, loss 1281.9596919304095\n",
      "iter1, loss 1227.1927293143876\n",
      "iter2, loss 1210.662643316836\n",
      "iter3, loss 1191.5178209949772\n",
      "iter4, loss 1170.7695599037993\n",
      "iter5, loss 1157.477574573195\n",
      "iter6, loss 1150.8036553223785\n",
      "iter7, loss 1145.952785271049\n",
      "iter8, loss 1141.4540173329026\n",
      "iter9, loss 1137.4630948149268\n",
      "iter10, loss 1134.3661146462398\n",
      "iter11, loss 1132.186574816456\n",
      "iter12, loss 1130.7857134767048\n",
      "iter13, loss 1129.9840115311024\n",
      "iter14, loss 1129.5777632663621\n",
      "iter15, loss 1129.3890384213037\n",
      "iter16, loss 1129.3048197264145\n",
      "iter17, loss 1129.2674393773646\n",
      "iter18, loss 1129.2505840721947\n",
      "iter19, loss 1129.2427490452724\n",
      "iter20, loss 1129.2389434977667\n",
      "iter21, loss 1129.236985772671\n",
      "iter22, loss 1129.235907266283\n",
      "iter23, loss 1129.2352683038064\n",
      "1129.2352683038064\n",
      "1129.235907266283\n",
      "loss converged: 0.0006389624766143243\n",
      "-1129.2352683038064\n",
      "[0.44192096 0.53664458 0.02143446]\n",
      "[[2.31305839 1.88204958]\n",
      " [1.1733893  5.86914677]\n",
      " [0.57777052 1.67801095]]\n",
      "[[[6.69127994 3.51812896]\n",
      "  [3.51812896 3.8357016 ]]\n",
      "\n",
      " [[0.95415243 0.15248322]\n",
      "  [0.15248322 1.05723284]]\n",
      "\n",
      " [[0.19532124 0.37230678]\n",
      "  [0.37230678 0.71659537]]]\n",
      "\n",
      " New Run \n",
      "\n",
      "\n",
      "init values\n",
      "[0.33333334 0.33333334 0.33333334]\n",
      "[[0.08365917 0.82550179]\n",
      " [0.00587812 0.1953386 ]\n",
      " [0.72277746 0.48530475]]\n",
      "[[[0.85312666 0.143167  ]\n",
      "  [0.143167   0.02852534]]\n",
      "\n",
      " [[0.34949965 0.56503373]\n",
      "  [0.56503373 1.17790747]]\n",
      "\n",
      " [[0.50509051 0.55340164]\n",
      "  [0.55340164 0.96774937]]]\n",
      "iter0, loss 1255.9110305613963\n",
      "iter1, loss 1194.5546056677076\n",
      "iter2, loss 1178.6126554874522\n",
      "iter3, loss 1169.0462960787647\n",
      "iter4, loss 1158.298988605022\n",
      "iter5, loss 1145.5163806084095\n",
      "iter6, loss 1134.4443137981266\n",
      "iter7, loss 1128.144952965272\n",
      "iter8, loss 1125.9477786520097\n",
      "iter9, loss 1125.351354439533\n",
      "iter10, loss 1125.1195533703808\n",
      "iter11, loss 1124.898524079355\n",
      "iter12, loss 1124.5169222538786\n",
      "iter13, loss 1123.728420515844\n",
      "iter14, loss 1122.1376821449928\n",
      "iter15, loss 1119.6695629853277\n",
      "iter16, loss 1117.4182973941504\n",
      "iter17, loss 1116.0918989434574\n",
      "iter18, loss 1115.2543537386484\n",
      "iter19, loss 1114.4839833024885\n",
      "iter20, loss 1113.6269776565075\n",
      "iter21, loss 1112.8093931823814\n",
      "iter22, loss 1112.019445897152\n",
      "iter23, loss 1110.9170684510188\n",
      "iter24, loss 1108.8427629053415\n",
      "iter25, loss 1104.9409184678186\n",
      "iter26, loss 1099.576958390598\n",
      "iter27, loss 1095.0383045163353\n",
      "iter28, loss 1091.4308780323004\n",
      "iter29, loss 1088.426791378692\n",
      "iter30, loss 1085.8241805487964\n",
      "iter31, loss 1083.4312113291235\n",
      "iter32, loss 1081.0126661360075\n",
      "iter33, loss 1078.1869866233933\n",
      "iter34, loss 1074.3387881265564\n",
      "iter35, loss 1069.7498933472307\n",
      "iter36, loss 1066.6323492876475\n",
      "iter37, loss 1065.3474129290971\n",
      "iter38, loss 1064.6310425985985\n",
      "iter39, loss 1064.1758067763587\n",
      "iter40, loss 1063.9448250118135\n",
      "iter41, loss 1063.8556110795537\n",
      "iter42, loss 1063.8263790784379\n",
      "iter43, loss 1063.8169245637648\n",
      "iter44, loss 1063.8135939147037\n",
      "iter45, loss 1063.8122871480418\n",
      "iter46, loss 1063.8117289918316\n",
      "1063.8117289918316\n",
      "1063.8122871480418\n",
      "loss converged: 0.0005581562102179305\n",
      "-1063.8117289918316\n",
      "[0.34153103 0.55110726 0.10736171]\n",
      "[[0.92082919 0.96431765]\n",
      " [1.2229296  5.82899214]\n",
      " [6.2946936  4.42975356]]\n",
      "[[[ 1.4984994  -0.3735356 ]\n",
      "  [-0.3735356   1.42436634]]\n",
      "\n",
      " [[ 0.94377647  0.06757822]\n",
      "  [ 0.06757822  1.1088653 ]]\n",
      "\n",
      " [[ 1.71322452  1.3948262 ]\n",
      "  [ 1.3948262   1.32515653]]]\n",
      "\n",
      " New Run \n",
      "\n",
      "\n",
      "init values\n",
      "[0.33333334 0.33333334 0.33333334]\n",
      "[[0.66891402 0.90109112]\n",
      " [0.79174607 0.04218808]\n",
      " [0.51561009 0.07355137]]\n",
      "[[[0.60266105 0.50645655]\n",
      "  [0.50645655 0.9128266 ]]\n",
      "\n",
      " [[0.2125232  0.42306149]\n",
      "  [0.42306149 0.84898624]]\n",
      "\n",
      " [[0.93752486 1.07268584]\n",
      "  [1.07268584 1.230904  ]]]\n",
      "iter0, loss 1232.6845654161052\n",
      "iter1, loss 1230.8696047655985\n",
      "iter2, loss 1230.4546268064657\n",
      "iter3, loss 1230.1706744572423\n",
      "iter4, loss 1229.9303671200614\n",
      "iter5, loss 1229.7089515234607\n",
      "iter6, loss 1229.3743354550788\n",
      "iter7, loss 1228.5110111557533\n",
      "iter8, loss 1226.8213672828479\n",
      "iter9, loss 1225.5503505111697\n",
      "iter10, loss 1224.3528251311034\n",
      "iter11, loss 1221.5463629523542\n",
      "iter12, loss 1216.5966328995141\n",
      "iter13, loss 1213.459469057261\n",
      "iter14, loss 1211.8970866311354\n",
      "iter15, loss 1211.0401758423525\n",
      "iter16, loss 1210.2913290998194\n",
      "iter17, loss 1209.4314225423489\n",
      "iter18, loss 1208.6986224483448\n",
      "iter19, loss 1208.2510714855289\n",
      "iter20, loss 1207.7865266275146\n",
      "iter21, loss 1207.1257612661516\n",
      "iter22, loss 1206.5760145852005\n",
      "iter23, loss 1206.2963693326028\n",
      "iter24, loss 1206.0850181539317\n",
      "iter25, loss 1205.8165734488296\n",
      "iter26, loss 1205.5201715853052\n",
      "iter27, loss 1205.3300626078494\n",
      "iter28, loss 1205.2218471183428\n",
      "iter29, loss 1205.1394585018077\n",
      "iter30, loss 1205.0715849599512\n",
      "iter31, loss 1205.021194339012\n",
      "iter32, loss 1204.9879289514713\n",
      "iter33, loss 1204.9669727101189\n",
      "iter34, loss 1204.9534597836848\n",
      "iter35, loss 1204.9442397420287\n",
      "iter36, loss 1204.937537247037\n",
      "iter37, loss 1204.9323590491877\n",
      "iter38, loss 1204.9281237905034\n",
      "iter39, loss 1204.9244676054727\n",
      "iter40, loss 1204.9211424309804\n",
      "iter41, loss 1204.917959222031\n",
      "iter42, loss 1204.9147518793259\n",
      "iter43, loss 1204.9113487012758\n",
      "iter44, loss 1204.9075420657223\n",
      "iter45, loss 1204.903046292385\n",
      "iter46, loss 1204.8974278024175\n",
      "iter47, loss 1204.8899769759537\n",
      "iter48, loss 1204.879457676386\n",
      "iter49, loss 1204.86359695177\n",
      "iter50, loss 1204.8380305286287\n",
      "iter51, loss 1204.7942291605848\n",
      "iter52, loss 1204.7163300701827\n",
      "iter53, loss 1204.580909639131\n",
      "iter54, loss 1204.3742847839587\n",
      "iter55, loss 1204.1239902226002\n",
      "iter56, loss 1203.8754032009338\n",
      "iter57, loss 1203.6403968363059\n",
      "iter58, loss 1203.4052097825609\n",
      "iter59, loss 1203.139452048245\n",
      "iter60, loss 1202.7783301161307\n",
      "iter61, loss 1202.1862958893787\n",
      "iter62, loss 1201.146520781461\n",
      "iter63, loss 1199.5574688136749\n",
      "iter64, loss 1197.7628668632958\n",
      "iter65, loss 1196.2035600082977\n",
      "iter66, loss 1194.8840901908386\n",
      "iter67, loss 1193.5280489312665\n",
      "iter68, loss 1191.6006707144923\n",
      "iter69, loss 1187.8432993742535\n",
      "iter70, loss 1180.4209153389381\n",
      "iter71, loss 1171.443724528719\n",
      "iter72, loss 1164.6362051221774\n",
      "iter73, loss 1159.9649019067315\n",
      "iter74, loss 1157.3935783265365\n",
      "iter75, loss 1156.2882137742097\n",
      "iter76, loss 1155.8563166031563\n",
      "iter77, loss 1155.674957387653\n",
      "iter78, loss 1155.5833044354506\n",
      "iter79, loss 1155.5226263703223\n",
      "iter80, loss 1155.4691813290756\n",
      "iter81, loss 1155.411357083447\n",
      "iter82, loss 1155.3419052921972\n",
      "iter83, loss 1155.255738371251\n",
      "iter84, loss 1155.150637317928\n",
      "iter85, loss 1155.029913537175\n",
      "iter86, loss 1154.904329158894\n",
      "iter87, loss 1154.788218241385\n",
      "iter88, loss 1154.690912887464\n",
      "iter89, loss 1154.6134638987473\n",
      "iter90, loss 1154.5524614856774\n",
      "iter91, loss 1154.5038565517514\n",
      "iter92, loss 1154.4642549452155\n",
      "iter93, loss 1154.43098859521\n",
      "iter94, loss 1154.4019125657944\n",
      "iter95, loss 1154.3751593487766\n",
      "iter96, loss 1154.348833368952\n",
      "iter97, loss 1154.3205284843666\n",
      "iter98, loss 1154.2863751802847\n",
      "iter99, loss 1154.2388224862932\n",
      "iter100, loss 1154.160802357071\n",
      "-1063.8117289918316\n",
      "[0.34153103 0.55110726 0.10736171]\n",
      "[[0.92082919 0.96431765]\n",
      " [1.2229296  5.82899214]\n",
      " [6.2946936  4.42975356]]\n",
      "[[[ 1.4984994  -0.3735356 ]\n",
      "  [-0.3735356   1.42436634]]\n",
      "\n",
      " [[ 0.94377647  0.06757822]\n",
      "  [ 0.06757822  1.1088653 ]]\n",
      "\n",
      " [[ 1.71322452  1.3948262 ]\n",
      "  [ 1.3948262   1.32515653]]]\n",
      "\n",
      " New Run \n",
      "\n",
      "\n",
      "init values\n",
      "[0.33333334 0.33333334 0.33333334]\n",
      "[[0.46055577 0.73424175]\n",
      " [0.52472883 0.14801894]\n",
      " [0.70659114 0.73470014]]\n",
      "[[[0.17665559 0.30309731]\n",
      "  [0.30309731 0.67905238]]\n",
      "\n",
      " [[0.59324077 0.78996065]\n",
      "  [0.78996065 1.06936031]]\n",
      "\n",
      " [[0.21420575 0.41038094]\n",
      "  [0.41038094 0.85686693]]]\n",
      "iter0, loss 1268.6082229910583\n",
      "iter1, loss 1232.6171050295632\n",
      "iter2, loss 1224.286135239381\n",
      "iter3, loss 1218.8602451983409\n",
      "iter4, loss 1215.6179146176294\n",
      "iter5, loss 1213.9832227729792\n",
      "iter6, loss 1213.13820953887\n",
      "iter7, loss 1212.6072561490803\n",
      "iter8, loss 1212.2205684452067\n",
      "iter9, loss 1211.91905925168\n",
      "iter10, loss 1211.6773268479606\n",
      "iter11, loss 1211.4732270995887\n",
      "iter12, loss 1211.2804696658372\n",
      "iter13, loss 1211.0674197757655\n",
      "iter14, loss 1210.788595072017\n",
      "iter15, loss 1210.3630139844172\n",
      "iter16, loss 1209.6360862468473\n",
      "iter17, loss 1208.34943543096\n"
     ]
    },
    {
     "name": "stdout",
     "output_type": "stream",
     "text": [
      "iter18, loss 1206.187434171692\n",
      "iter19, loss 1202.7368937621197\n",
      "iter20, loss 1197.2578155446997\n",
      "iter21, loss 1190.3032909397898\n",
      "iter22, loss 1183.4505277426474\n",
      "iter23, loss 1176.5148030582097\n",
      "iter24, loss 1169.728318567567\n",
      "iter25, loss 1164.281109026612\n",
      "iter26, loss 1161.1786671521081\n",
      "iter27, loss 1159.8857231161398\n",
      "iter28, loss 1159.4020069379571\n",
      "iter29, loss 1159.1648604859615\n",
      "iter30, loss 1158.947202894053\n",
      "iter31, loss 1158.7530531748357\n",
      "iter32, loss 1158.6583059546601\n",
      "iter33, loss 1158.621515628318\n",
      "iter34, loss 1158.5981472550234\n",
      "iter35, loss 1158.571638468063\n",
      "iter36, loss 1158.529069720254\n",
      "iter37, loss 1158.4455684060101\n",
      "iter38, loss 1158.2987368070678\n",
      "iter39, loss 1158.1913528536413\n",
      "iter40, loss 1158.1608075036092\n",
      "iter41, loss 1158.1477186905167\n",
      "iter42, loss 1158.1384758782945\n",
      "iter43, loss 1158.1298008057556\n",
      "iter44, loss 1158.119841060771\n",
      "iter45, loss 1158.106316978367\n",
      "iter46, loss 1158.0849955591584\n",
      "iter47, loss 1158.046842093828\n",
      "iter48, loss 1157.9707129227822\n",
      "iter49, loss 1157.7647188324497\n",
      "iter50, loss 1156.0013261897207\n",
      "singular matrix\n",
      "-1063.8117289918316\n",
      "[0.34153103 0.55110726 0.10736171]\n",
      "[[0.92082919 0.96431765]\n",
      " [1.2229296  5.82899214]\n",
      " [6.2946936  4.42975356]]\n",
      "[[[ 1.4984994  -0.3735356 ]\n",
      "  [-0.3735356   1.42436634]]\n",
      "\n",
      " [[ 0.94377647  0.06757822]\n",
      "  [ 0.06757822  1.1088653 ]]\n",
      "\n",
      " [[ 1.71322452  1.3948262 ]\n",
      "  [ 1.3948262   1.32515653]]]\n",
      "\n",
      " New Run \n",
      "\n",
      "\n",
      "init values\n",
      "[0.33333334 0.33333334 0.33333334]\n",
      "[[0.47222496 0.58040267]\n",
      " [0.12414782 0.57795626]\n",
      " [0.99567633 0.6273643 ]]\n",
      "[[[0.28759855 0.41563425]\n",
      "  [0.41563425 0.68885661]]\n",
      "\n",
      " [[0.09160351 0.21794538]\n",
      "  [0.21794538 0.51898571]]\n",
      "\n",
      " [[1.29101325 0.90965114]\n",
      "  [0.90965114 0.69571632]]]\n",
      "iter0, loss 1172.7550629347238\n",
      "iter1, loss 1143.8119140648348\n",
      "iter2, loss 1142.6007818667972\n",
      "iter3, loss 1142.2787347965884\n",
      "iter4, loss 1142.1636412322814\n",
      "iter5, loss 1142.0792387296715\n",
      "iter6, loss 1141.958941262275\n",
      "iter7, loss 1141.5511405376078\n",
      "iter8, loss 1136.693604640089\n",
      "iter9, loss 1134.3788388529995\n",
      "iter10, loss 1132.7265107930411\n",
      "iter11, loss 1131.513808120659\n",
      "iter12, loss 1131.2307119388474\n",
      "iter13, loss 1130.9288597158918\n",
      "iter14, loss 1130.5966265892653\n",
      "iter15, loss 1130.2352107452107\n",
      "iter16, loss 1129.8443872845173\n",
      "iter17, loss 1129.4208379180423\n",
      "iter18, loss 1128.957545697072\n",
      "iter19, loss 1128.4452548073136\n",
      "iter20, loss 1127.877389046868\n",
      "iter21, loss 1127.258043127207\n",
      "iter22, loss 1126.6077256272167\n",
      "iter23, loss 1125.960932923875\n",
      "iter24, loss 1125.3593981642175\n",
      "iter25, loss 1124.846196398342\n",
      "iter26, loss 1124.4543905281816\n",
      "iter27, loss 1124.1910255988396\n",
      "iter28, loss 1124.0344642048785\n",
      "iter29, loss 1123.9502385293054\n",
      "iter30, loss 1123.9080090773646\n",
      "iter31, loss 1123.887769926945\n",
      "iter32, loss 1123.8783333914973\n",
      "iter33, loss 1123.8740061428866\n",
      "iter34, loss 1123.8720418917962\n",
      "iter35, loss 1123.8711559015833\n",
      "1123.8711559015833\n",
      "1123.8720418917962\n",
      "loss converged: 0.000885990212964316\n",
      "-1063.8117289918316\n",
      "[0.34153103 0.55110726 0.10736171]\n",
      "[[0.92082919 0.96431765]\n",
      " [1.2229296  5.82899214]\n",
      " [6.2946936  4.42975356]]\n",
      "[[[ 1.4984994  -0.3735356 ]\n",
      "  [-0.3735356   1.42436634]]\n",
      "\n",
      " [[ 0.94377647  0.06757822]\n",
      "  [ 0.06757822  1.1088653 ]]\n",
      "\n",
      " [[ 1.71322452  1.3948262 ]\n",
      "  [ 1.3948262   1.32515653]]]\n",
      "\n",
      " New Run \n",
      "\n",
      "\n",
      "init values\n",
      "[0.33333334 0.33333334 0.33333334]\n",
      "[[0.84533706 0.85027279]\n",
      " [0.74425483 0.42505244]\n",
      " [0.12308375 0.86677962]]\n",
      "[[[1.06789946 0.70680597]\n",
      "  [0.70680597 0.49521025]]\n",
      "\n",
      " [[0.29260567 0.46240082]\n",
      "  [0.46240082 0.92157261]]\n",
      "\n",
      " [[0.04455502 0.11176378]\n",
      "  [0.11176378 0.38392483]]]\n",
      "iter0, loss 1211.9441845877645\n",
      "iter1, loss 1137.4145106973638\n",
      "iter2, loss 1124.7374607937472\n",
      "iter3, loss 1113.8076507992748\n",
      "iter4, loss 1103.4656093655212\n",
      "iter5, loss 1096.9799272738894\n",
      "iter6, loss 1092.7817894655489\n",
      "iter7, loss 1089.0328384795912\n",
      "iter8, loss 1085.7385185395817\n",
      "iter9, loss 1083.030320525449\n",
      "iter10, loss 1080.6022766252772\n",
      "iter11, loss 1078.1891508943045\n",
      "iter12, loss 1075.6608250734685\n",
      "iter13, loss 1072.9667791654913\n",
      "iter14, loss 1070.2089958309575\n",
      "iter15, loss 1067.7467662178144\n",
      "iter16, loss 1065.9797626592047\n",
      "iter17, loss 1064.939047370171\n",
      "iter18, loss 1064.385953719997\n",
      "iter19, loss 1064.1013203616176\n",
      "iter20, loss 1063.9562314765662\n",
      "iter21, loss 1063.8829753999144\n",
      "iter22, loss 1063.8464167606494\n",
      "iter23, loss 1063.828372531492\n",
      "iter24, loss 1063.8195455115638\n",
      "iter25, loss 1063.8152559296668\n",
      "iter26, loss 1063.8131811648686\n",
      "iter27, loss 1063.8121809480451\n",
      "iter28, loss 1063.811699852713\n",
      "1063.811699852713\n",
      "1063.8121809480451\n",
      "loss converged: 0.0004810953321339184\n",
      "-1063.811699852713\n",
      "[0.10727386 0.34221837 0.55050776]\n",
      "[[6.29727181 4.43163691]\n",
      " [0.92130628 0.96906964]\n",
      " [1.22331714 5.83152166]]\n",
      "[[[ 1.7062103   1.3897418 ]\n",
      "  [ 1.3897418   1.3215502 ]]\n",
      "\n",
      " [[ 1.49927144 -0.37267466]\n",
      "  [-0.37267466  1.43398316]]\n",
      "\n",
      " [[ 0.94316582  0.0670025 ]\n",
      "  [ 0.0670025   1.10374237]]]\n",
      "\n",
      " New Run \n",
      "\n",
      "\n",
      "init values\n",
      "[0.33333334 0.33333334 0.33333334]\n",
      "[[0.71026447 0.08292874]\n",
      " [0.53301434 0.48430778]\n",
      " [0.22717911 0.24385536]]\n",
      "[[[0.94068968 0.26424019]\n",
      "  [0.26424019 0.38220954]]\n",
      "\n",
      " [[1.5016323  1.00397479]\n",
      "  [1.00397479 0.84959494]]\n",
      "\n",
      " [[0.61161664 0.49710371]\n",
      "  [0.49710371 0.4072986 ]]]\n",
      "iter0, loss 1217.3397710028746\n",
      "iter1, loss 1161.6212881399115\n",
      "iter2, loss 1155.5561693942188\n",
      "iter3, loss 1150.7335563653908\n",
      "iter4, loss 1146.0754944591854\n",
      "iter5, loss 1141.68147503134\n",
      "iter6, loss 1137.5836619547354\n",
      "iter7, loss 1134.3522324218725\n",
      "iter8, loss 1132.577505537847\n",
      "iter9, loss 1131.6389420568541\n",
      "iter10, loss 1130.7415111349856\n",
      "iter11, loss 1129.6120830838158\n",
      "iter12, loss 1128.3484351450775\n",
      "iter13, loss 1127.3566688316218\n",
      "iter14, loss 1126.7645510898483\n",
      "iter15, loss 1126.4286929983543\n",
      "iter16, loss 1126.228412445395\n",
      "iter17, loss 1126.0927692036698\n",
      "iter18, loss 1125.9826505068781\n",
      "iter19, loss 1125.8764816858497\n",
      "iter20, loss 1125.7599097549814\n",
      "iter21, loss 1125.6190973774183\n",
      "iter22, loss 1125.4359609885496\n",
      "iter23, loss 1125.184286554577\n",
      "iter24, loss 1124.8292577963255\n",
      "iter25, loss 1124.3428493218414\n",
      "iter26, loss 1123.7566181205152\n",
      "iter27, loss 1123.2116519967021\n",
      "iter28, loss 1122.8433507030506\n",
      "iter29, loss 1122.6278528629166\n",
      "iter30, loss 1122.4852490850062\n",
      "iter31, loss 1122.377841401914\n",
      "iter32, loss 1122.298606223632\n",
      "iter33, loss 1122.2487524441128\n",
      "iter34, loss 1122.2241814642505\n",
      "iter35, loss 1122.2148187399002\n",
      "iter36, loss 1122.2119257909194\n",
      "iter37, loss 1122.2111475809043\n",
      "1122.2111475809043\n",
      "1122.2119257909194\n",
      "loss converged: 0.0007782100151416671\n",
      "-1063.811699852713\n",
      "[0.10727386 0.34221837 0.55050776]\n",
      "[[6.29727181 4.43163691]\n",
      " [0.92130628 0.96906964]\n",
      " [1.22331714 5.83152166]]\n",
      "[[[ 1.7062103   1.3897418 ]\n",
      "  [ 1.3897418   1.3215502 ]]\n",
      "\n",
      " [[ 1.49927144 -0.37267466]\n",
      "  [-0.37267466  1.43398316]]\n",
      "\n",
      " [[ 0.94316582  0.0670025 ]\n",
      "  [ 0.0670025   1.10374237]]]\n",
      "\n",
      " New Run \n",
      "\n",
      "\n",
      "init values\n",
      "[0.33333334 0.33333334 0.33333334]\n",
      "[[0.92329507 0.93711214]\n",
      " [0.99168488 0.58997355]\n",
      " [0.57345388 0.80610282]]\n",
      "[[[0.02359368 0.03851879]\n",
      "  [0.03851879 0.08982612]]\n",
      "\n",
      " [[0.97957376 0.83023274]\n",
      "  [0.83023274 1.03309616]]\n",
      "\n",
      " [[0.74325648 0.55530831]\n",
      "  [0.55530831 0.95142519]]]\n",
      "iter0, loss 1148.3956556939438\n",
      "iter1, loss 1140.825231977798\n",
      "iter2, loss 1137.221641363738\n",
      "iter3, loss 1134.199211289665\n",
      "iter4, loss 1131.2242709057255\n",
      "iter5, loss 1127.9286170015994\n",
      "iter6, loss 1124.838071401397\n",
      "iter7, loss 1122.6711752036013\n",
      "iter8, loss 1121.3320962189425\n",
      "iter9, loss 1120.4279335828717\n",
      "iter10, loss 1119.6815322020518\n",
      "iter11, loss 1118.9645134222833\n",
      "iter12, loss 1118.2398574814924\n",
      "iter13, loss 1117.548120400637\n",
      "iter14, loss 1116.9879296098302\n",
      "iter15, loss 1116.6115862939273\n",
      "iter16, loss 1116.3633781431422\n",
      "iter17, loss 1116.1748289039087\n",
      "iter18, loss 1116.0215519838382\n",
      "iter19, loss 1115.9033250871662\n",
      "iter20, loss 1115.8173408708938\n",
      "iter21, loss 1115.7501291630037\n",
      "iter22, loss 1115.6880968415908\n",
      "iter23, loss 1115.6246774248482\n",
      "iter24, loss 1115.5585752650657\n",
      "iter25, loss 1115.490709663079\n",
      "iter26, loss 1115.422411235809\n",
      "iter27, loss 1115.3543273489975\n",
      "iter28, loss 1115.2857072473253\n",
      "iter29, loss 1115.2139480450487\n",
      "iter30, loss 1115.1340198995044\n",
      "iter31, loss 1115.0369842586322\n",
      "iter32, loss 1114.9061294614528\n",
      "iter33, loss 1114.707540935653\n",
      "iter34, loss 1114.3691230298862\n",
      "iter35, loss 1113.7447898632452\n",
      "iter36, loss 1112.5844888312313\n",
      "iter37, loss 1110.742330169539\n",
      "iter38, loss 1108.792805587992\n",
      "iter39, loss 1106.7004616520742\n"
     ]
    },
    {
     "name": "stdout",
     "output_type": "stream",
     "text": [
      "iter40, loss 1104.1765265998135\n",
      "iter41, loss 1101.4166061552764\n",
      "iter42, loss 1097.9912160243082\n",
      "iter43, loss 1093.8179190531225\n",
      "iter44, loss 1089.2682538589418\n",
      "iter45, loss 1084.3348632386928\n",
      "iter46, loss 1079.201293245826\n",
      "iter47, loss 1074.393004781878\n",
      "iter48, loss 1070.3702678282586\n",
      "iter49, loss 1067.404518265248\n",
      "iter50, loss 1065.5711911009473\n",
      "iter51, loss 1064.6225836435603\n",
      "iter52, loss 1064.180387869546\n",
      "iter53, loss 1063.980390426262\n",
      "iter54, loss 1063.8895857696195\n",
      "iter55, loss 1063.8478680232122\n",
      "iter56, loss 1063.828488426787\n",
      "iter57, loss 1063.8194077825096\n",
      "iter58, loss 1063.8151259129527\n",
      "iter59, loss 1063.8130977360438\n",
      "iter60, loss 1063.8121340148696\n",
      "1063.8121340148696\n",
      "1063.8130977360438\n",
      "loss converged: 0.0009637211742301588\n",
      "-1063.811699852713\n",
      "[0.10727386 0.34221837 0.55050776]\n",
      "[[6.29727181 4.43163691]\n",
      " [0.92130628 0.96906964]\n",
      " [1.22331714 5.83152166]]\n",
      "[[[ 1.7062103   1.3897418 ]\n",
      "  [ 1.3897418   1.3215502 ]]\n",
      "\n",
      " [[ 1.49927144 -0.37267466]\n",
      "  [-0.37267466  1.43398316]]\n",
      "\n",
      " [[ 0.94316582  0.0670025 ]\n",
      "  [ 0.0670025   1.10374237]]]\n",
      "\n",
      " New Run \n",
      "\n",
      "\n",
      "init values\n",
      "[0.33333334 0.33333334 0.33333334]\n",
      "[[0.91677008 0.36808115]\n",
      " [0.21851109 0.32141478]\n",
      " [0.31864345 0.87027821]]\n",
      "[[[0.90059411 0.3562023 ]\n",
      "  [0.3562023  0.24258168]]\n",
      "\n",
      " [[0.02972728 0.16715494]\n",
      "  [0.16715494 1.15974208]]\n",
      "\n",
      " [[0.2577255  0.03850606]\n",
      "  [0.03850606 0.00787851]]]\n",
      "iter0, loss 1217.6606732601028\n",
      "iter1, loss 1167.168936303084\n",
      "iter2, loss 1155.0686413156398\n",
      "iter3, loss 1144.6616832903821\n",
      "iter4, loss 1138.3516478825284\n",
      "iter5, loss 1135.4828475760235\n",
      "iter6, loss 1134.212578067061\n",
      "iter7, loss 1133.6061238243733\n",
      "iter8, loss 1133.260634994341\n",
      "iter9, loss 1132.821071689509\n",
      "iter10, loss 1130.7819218993313\n",
      "iter11, loss 1130.2398381201622\n",
      "iter12, loss 1130.2036440029128\n",
      "iter13, loss 1130.1645933860843\n",
      "iter14, loss 1130.0374302277603\n",
      "iter15, loss 1129.3298102540123\n",
      "iter16, loss 1128.574005913819\n",
      "iter17, loss 1128.5673535862531\n",
      "iter18, loss 1128.5671793845768\n",
      "1128.5671793845768\n",
      "1128.5673535862531\n",
      "loss converged: 0.00017420167637283157\n",
      "-1063.811699852713\n",
      "[0.10727386 0.34221837 0.55050776]\n",
      "[[6.29727181 4.43163691]\n",
      " [0.92130628 0.96906964]\n",
      " [1.22331714 5.83152166]]\n",
      "[[[ 1.7062103   1.3897418 ]\n",
      "  [ 1.3897418   1.3215502 ]]\n",
      "\n",
      " [[ 1.49927144 -0.37267466]\n",
      "  [-0.37267466  1.43398316]]\n",
      "\n",
      " [[ 0.94316582  0.0670025 ]\n",
      "  [ 0.0670025   1.10374237]]]\n",
      "\n",
      " New Run \n",
      "\n",
      "\n",
      "init values\n",
      "[0.33333334 0.33333334 0.33333334]\n",
      "[[0.16979115 0.74724908]\n",
      " [0.13571892 0.1405234 ]\n",
      " [0.26237678 0.8539123 ]]\n",
      "[[[0.58458087 0.77744152]\n",
      "  [0.77744152 1.08930475]]\n",
      "\n",
      " [[1.36821598 1.08808219]\n",
      "  [1.08808219 0.90482464]]\n",
      "\n",
      " [[0.7417872  0.71217803]\n",
      "  [0.71217803 1.10268974]]]\n",
      "iter0, loss 1163.6470675804962\n",
      "iter1, loss 1139.6083326897124\n",
      "iter2, loss 1135.8486795431959\n",
      "iter3, loss 1134.022665130052\n",
      "iter4, loss 1132.6997237197427\n",
      "iter5, loss 1131.6786236529927\n",
      "iter6, loss 1131.0282330335347\n",
      "iter7, loss 1130.649335172583\n",
      "iter8, loss 1130.3696782161387\n",
      "iter9, loss 1130.0993794243814\n",
      "iter10, loss 1129.7914554921235\n",
      "iter11, loss 1129.4153271487428\n",
      "iter12, loss 1128.9778072300646\n",
      "iter13, loss 1128.534342600069\n",
      "iter14, loss 1128.0740291241868\n",
      "iter15, loss 1127.516677659496\n",
      "iter16, loss 1126.8716503427174\n",
      "iter17, loss 1126.2954408715761\n",
      "iter18, loss 1125.9278133826624\n",
      "iter19, loss 1125.7260596168824\n",
      "iter20, loss 1125.5986142155787\n",
      "iter21, loss 1125.500809545814\n",
      "iter22, loss 1125.4160260544877\n",
      "iter23, loss 1125.3351958820701\n",
      "iter24, loss 1125.244620873296\n",
      "iter25, loss 1125.1142690298016\n",
      "iter26, loss 1124.886249365315\n",
      "iter27, loss 1124.4895615227658\n",
      "iter28, loss 1124.0085795963641\n",
      "iter29, loss 1123.6625680182874\n",
      "iter30, loss 1123.4300889654976\n",
      "iter31, loss 1123.2179759478424\n",
      "iter32, loss 1122.9626854244082\n",
      "iter33, loss 1122.5975463308912\n",
      "iter34, loss 1122.0790392611734\n",
      "iter35, loss 1121.4690149014966\n",
      "iter36, loss 1120.861714014114\n",
      "iter37, loss 1120.4680614205067\n",
      "iter38, loss 1120.3450602277364\n",
      "iter39, loss 1120.3036588642576\n",
      "iter40, loss 1120.2791603972025\n",
      "iter41, loss 1120.2610939214362\n",
      "iter42, loss 1120.2478226752748\n",
      "iter43, loss 1120.2387096068685\n",
      "iter44, loss 1120.2329581335068\n",
      "iter45, loss 1120.22962200136\n",
      "iter46, loss 1120.227826993633\n",
      "iter47, loss 1120.2269187513245\n",
      "1120.2269187513245\n",
      "1120.227826993633\n",
      "loss converged: 0.0009082423084691982\n",
      "-1063.811699852713\n",
      "[0.10727386 0.34221837 0.55050776]\n",
      "[[6.29727181 4.43163691]\n",
      " [0.92130628 0.96906964]\n",
      " [1.22331714 5.83152166]]\n",
      "[[[ 1.7062103   1.3897418 ]\n",
      "  [ 1.3897418   1.3215502 ]]\n",
      "\n",
      " [[ 1.49927144 -0.37267466]\n",
      "  [-0.37267466  1.43398316]]\n",
      "\n",
      " [[ 0.94316582  0.0670025 ]\n",
      "  [ 0.0670025   1.10374237]]]\n",
      "Current answer for task Task 4 (EM) is: 1063.811699852713\n"
     ]
    }
   ],
   "source": [
    "best_loss, best_pi, best_mu, best_sigma = train_EM(X, 3)\n",
    "grader.submit_EM(best_loss)"
   ]
  },
  {
   "cell_type": "markdown",
   "metadata": {},
   "source": [
    "If you implemented all the steps correctly, your algorithm should converge in about 20 iterations. Let's plot the clusters to see it. We will assign a cluster label as the most probable cluster index. This can be found using matrix $\\gamma$ computed on last E-step. \n"
   ]
  },
  {
   "cell_type": "code",
   "execution_count": 784,
   "metadata": {},
   "outputs": [
    {
     "data": {
      "text/plain": [
       "-1063.811699852713"
      ]
     },
     "execution_count": 784,
     "metadata": {},
     "output_type": "execute_result"
    }
   ],
   "source": [
    "best_loss"
   ]
  },
  {
   "cell_type": "code",
   "execution_count": 785,
   "metadata": {},
   "outputs": [
    {
     "data": {
      "text/plain": [
       "array([0.10727386, 0.34221837, 0.55050776])"
      ]
     },
     "execution_count": 785,
     "metadata": {},
     "output_type": "execute_result"
    }
   ],
   "source": [
    "best_pi"
   ]
  },
  {
   "cell_type": "code",
   "execution_count": 786,
   "metadata": {},
   "outputs": [
    {
     "data": {
      "text/plain": [
       "array([[6.29727181, 4.43163691],\n",
       "       [0.92130628, 0.96906964],\n",
       "       [1.22331714, 5.83152166]])"
      ]
     },
     "execution_count": 786,
     "metadata": {},
     "output_type": "execute_result"
    }
   ],
   "source": [
    "best_mu"
   ]
  },
  {
   "cell_type": "code",
   "execution_count": 787,
   "metadata": {},
   "outputs": [
    {
     "data": {
      "image/png": "[encoded data removed]",
      "text/plain": [
       "<Figure size 432x288 with 1 Axes>"
      ]
     },
     "metadata": {},
     "output_type": "display_data"
    }
   ],
   "source": [
    "gamma = E_step(X, best_pi, best_mu, best_sigma)\n",
    "labels = gamma.argmax(1)\n",
    "plt.scatter(X[:, 0], X[:, 1], c=labels, s=30)\n",
    "plt.axis('equal')\n",
    "plt.show()"
   ]
  },
  {
   "cell_type": "markdown",
   "metadata": {},
   "source": [
    "### Authorization & Submission\n",
    "To submit assignment parts to Cousera platform, please, enter your e-mail and your token into variables below. You can generate the token on this programming assignment page. <b>Note:</b> Token expires 30 minutes after generation."
   ]
  },
  {
   "cell_type": "code",
   "execution_count": 788,
   "metadata": {},
   "outputs": [
    {
     "name": "stdout",
     "output_type": "stream",
     "text": [
      "Current answer for task Task 4 (EM) is: -1063.811699852713\n"
     ]
    }
   ],
   "source": [
    "grader.submit_EM(best_loss)"
   ]
  },
  {
   "cell_type": "code",
   "execution_count": 789,
   "metadata": {},
   "outputs": [
    {
     "name": "stdout",
     "output_type": "stream",
     "text": [
      "You want to submit these numbers:\n",
      "Task Task 1 (E-step): 0.5337178741081263\n",
      "Task Task 2 (M-step: mu): 2.899391882050384\n",
      "Task Task 2 (M-step: sigma): 5.9771052168975265\n",
      "Task Task 2 (M-step: pi): 0.5507624459218775\n",
      "Task Task 3 (VLB): -1213.973437451592\n",
      "Task Task 4 (EM): -1063.811699852713\n"
     ]
    }
   ],
   "source": [
    "STUDENT_EMAIL = 'ac00@uw.edu'# EMAIL HERE\n",
    "STUDENT_TOKEN = 'bKNi8FY6PLI3bf4Y'# TOKEN HERE\n",
    "grader.status()"
   ]
  },
  {
   "cell_type": "markdown",
   "metadata": {},
   "source": [
    "If you want to submit these answers, run cell below"
   ]
  },
  {
   "cell_type": "code",
   "execution_count": 790,
   "metadata": {},
   "outputs": [
    {
     "name": "stdout",
     "output_type": "stream",
     "text": [
      "Submitted to Coursera platform. See results on assignment page!\n"
     ]
    }
   ],
   "source": [
    "grader.submit(STUDENT_EMAIL, STUDENT_TOKEN)"
   ]
  },
  {
   "cell_type": "code",
   "execution_count": null,
   "metadata": {},
   "outputs": [],
   "source": []
  }
 ],
 "metadata": {
  "kernelspec": {
   "display_name": "Python 3",
   "language": "python",
   "name": "python3"
  },
  "language_info": {
   "codemirror_mode": {
    "name": "ipython",
    "version": 3
   },
   "file_extension": ".py",
   "mimetype": "text/x-python",
   "name": "python",
   "nbconvert_exporter": "python",
   "pygments_lexer": "ipython3",
   "version": "3.6.5"
  },
  "latex_envs": {
   "bibliofile": "biblio.bib",
   "cite_by": "apalike",
   "current_citInitial": 1,
   "eqLabelWithNumbers": true,
   "eqNumInitial": 0
  }
 },
 "nbformat": 4,
 "nbformat_minor": 2
}
